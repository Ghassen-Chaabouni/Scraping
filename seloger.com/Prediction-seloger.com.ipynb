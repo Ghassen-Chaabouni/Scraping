{
 "cells": [
  {
   "cell_type": "code",
   "execution_count": 25,
   "metadata": {},
   "outputs": [],
   "source": [
    "import pandas as pd\n",
    "import numpy as np"
   ]
  },
  {
   "cell_type": "code",
   "execution_count": 26,
   "metadata": {},
   "outputs": [],
   "source": [
    "df = pd.read_csv(\"final_clean_data.csv\")"
   ]
  },
  {
   "cell_type": "code",
   "execution_count": 27,
   "metadata": {},
   "outputs": [
    {
     "data": {
      "text/html": [
       "<div>\n",
       "<style scoped>\n",
       "    .dataframe tbody tr th:only-of-type {\n",
       "        vertical-align: middle;\n",
       "    }\n",
       "\n",
       "    .dataframe tbody tr th {\n",
       "        vertical-align: top;\n",
       "    }\n",
       "\n",
       "    .dataframe thead th {\n",
       "        text-align: right;\n",
       "    }\n",
       "</style>\n",
       "<table border=\"1\" class=\"dataframe\">\n",
       "  <thead>\n",
       "    <tr style=\"text-align: right;\">\n",
       "      <th></th>\n",
       "      <th>price(€)</th>\n",
       "      <th>monthly(€)</th>\n",
       "      <th>energy_performance_diagnosis_(kWhEP/m².year)</th>\n",
       "      <th>Greenhouse_gas_emission(kgeqCO2/m².year)</th>\n",
       "      <th>terrace</th>\n",
       "      <th>view</th>\n",
       "      <th>area(m²)</th>\n",
       "      <th>room</th>\n",
       "      <th>bedroom</th>\n",
       "      <th>year_of_construction</th>\n",
       "      <th>...</th>\n",
       "      <th>ZAC Saint Sebastien</th>\n",
       "      <th>Zone Agricole</th>\n",
       "      <th>Zone Industrielle</th>\n",
       "      <th>Zone Industrielle du Prat</th>\n",
       "      <th>Zone Nord Est Urbaine</th>\n",
       "      <th>Zone Ouest Urbaine</th>\n",
       "      <th>Zone Pavillonnaire</th>\n",
       "      <th>Zone Pietonne</th>\n",
       "      <th>Zone Rurale Nord</th>\n",
       "      <th>Île de Nantes</th>\n",
       "    </tr>\n",
       "  </thead>\n",
       "  <tbody>\n",
       "    <tr>\n",
       "      <th>0</th>\n",
       "      <td>349500</td>\n",
       "      <td>1449</td>\n",
       "      <td>150.0</td>\n",
       "      <td>35.0</td>\n",
       "      <td>1</td>\n",
       "      <td>0</td>\n",
       "      <td>105.00</td>\n",
       "      <td>5</td>\n",
       "      <td>3</td>\n",
       "      <td>0</td>\n",
       "      <td>...</td>\n",
       "      <td>0</td>\n",
       "      <td>0</td>\n",
       "      <td>0</td>\n",
       "      <td>0</td>\n",
       "      <td>0</td>\n",
       "      <td>0</td>\n",
       "      <td>0</td>\n",
       "      <td>0</td>\n",
       "      <td>0</td>\n",
       "      <td>0</td>\n",
       "    </tr>\n",
       "    <tr>\n",
       "      <th>1</th>\n",
       "      <td>335000</td>\n",
       "      <td>1389</td>\n",
       "      <td>0.0</td>\n",
       "      <td>0.0</td>\n",
       "      <td>1</td>\n",
       "      <td>0</td>\n",
       "      <td>185.00</td>\n",
       "      <td>5</td>\n",
       "      <td>4</td>\n",
       "      <td>1976</td>\n",
       "      <td>...</td>\n",
       "      <td>0</td>\n",
       "      <td>0</td>\n",
       "      <td>0</td>\n",
       "      <td>0</td>\n",
       "      <td>0</td>\n",
       "      <td>0</td>\n",
       "      <td>0</td>\n",
       "      <td>0</td>\n",
       "      <td>0</td>\n",
       "      <td>0</td>\n",
       "    </tr>\n",
       "    <tr>\n",
       "      <th>2</th>\n",
       "      <td>2490000</td>\n",
       "      <td>10270</td>\n",
       "      <td>99.0</td>\n",
       "      <td>19.0</td>\n",
       "      <td>0</td>\n",
       "      <td>1</td>\n",
       "      <td>220.00</td>\n",
       "      <td>5</td>\n",
       "      <td>5</td>\n",
       "      <td>0</td>\n",
       "      <td>...</td>\n",
       "      <td>0</td>\n",
       "      <td>0</td>\n",
       "      <td>0</td>\n",
       "      <td>0</td>\n",
       "      <td>0</td>\n",
       "      <td>0</td>\n",
       "      <td>0</td>\n",
       "      <td>0</td>\n",
       "      <td>0</td>\n",
       "      <td>0</td>\n",
       "    </tr>\n",
       "    <tr>\n",
       "      <th>3</th>\n",
       "      <td>356000</td>\n",
       "      <td>1476</td>\n",
       "      <td>0.0</td>\n",
       "      <td>0.0</td>\n",
       "      <td>0</td>\n",
       "      <td>0</td>\n",
       "      <td>130.00</td>\n",
       "      <td>5</td>\n",
       "      <td>3</td>\n",
       "      <td>0</td>\n",
       "      <td>...</td>\n",
       "      <td>0</td>\n",
       "      <td>0</td>\n",
       "      <td>0</td>\n",
       "      <td>0</td>\n",
       "      <td>0</td>\n",
       "      <td>0</td>\n",
       "      <td>0</td>\n",
       "      <td>0</td>\n",
       "      <td>0</td>\n",
       "      <td>0</td>\n",
       "    </tr>\n",
       "    <tr>\n",
       "      <th>4</th>\n",
       "      <td>388500</td>\n",
       "      <td>1610</td>\n",
       "      <td>214.0</td>\n",
       "      <td>11.0</td>\n",
       "      <td>1</td>\n",
       "      <td>0</td>\n",
       "      <td>102.00</td>\n",
       "      <td>6</td>\n",
       "      <td>4</td>\n",
       "      <td>1986</td>\n",
       "      <td>...</td>\n",
       "      <td>0</td>\n",
       "      <td>0</td>\n",
       "      <td>0</td>\n",
       "      <td>0</td>\n",
       "      <td>0</td>\n",
       "      <td>0</td>\n",
       "      <td>0</td>\n",
       "      <td>0</td>\n",
       "      <td>0</td>\n",
       "      <td>0</td>\n",
       "    </tr>\n",
       "    <tr>\n",
       "      <th>...</th>\n",
       "      <td>...</td>\n",
       "      <td>...</td>\n",
       "      <td>...</td>\n",
       "      <td>...</td>\n",
       "      <td>...</td>\n",
       "      <td>...</td>\n",
       "      <td>...</td>\n",
       "      <td>...</td>\n",
       "      <td>...</td>\n",
       "      <td>...</td>\n",
       "      <td>...</td>\n",
       "      <td>...</td>\n",
       "      <td>...</td>\n",
       "      <td>...</td>\n",
       "      <td>...</td>\n",
       "      <td>...</td>\n",
       "      <td>...</td>\n",
       "      <td>...</td>\n",
       "      <td>...</td>\n",
       "      <td>...</td>\n",
       "      <td>...</td>\n",
       "    </tr>\n",
       "    <tr>\n",
       "      <th>1987</th>\n",
       "      <td>148000</td>\n",
       "      <td>619</td>\n",
       "      <td>216.0</td>\n",
       "      <td>11.0</td>\n",
       "      <td>1</td>\n",
       "      <td>0</td>\n",
       "      <td>127.00</td>\n",
       "      <td>5</td>\n",
       "      <td>4</td>\n",
       "      <td>1988</td>\n",
       "      <td>...</td>\n",
       "      <td>0</td>\n",
       "      <td>0</td>\n",
       "      <td>0</td>\n",
       "      <td>0</td>\n",
       "      <td>0</td>\n",
       "      <td>0</td>\n",
       "      <td>0</td>\n",
       "      <td>0</td>\n",
       "      <td>0</td>\n",
       "      <td>0</td>\n",
       "    </tr>\n",
       "    <tr>\n",
       "      <th>1988</th>\n",
       "      <td>75240</td>\n",
       "      <td>317</td>\n",
       "      <td>305.0</td>\n",
       "      <td>0.0</td>\n",
       "      <td>0</td>\n",
       "      <td>0</td>\n",
       "      <td>140.00</td>\n",
       "      <td>5</td>\n",
       "      <td>2</td>\n",
       "      <td>1600</td>\n",
       "      <td>...</td>\n",
       "      <td>0</td>\n",
       "      <td>0</td>\n",
       "      <td>0</td>\n",
       "      <td>0</td>\n",
       "      <td>0</td>\n",
       "      <td>0</td>\n",
       "      <td>0</td>\n",
       "      <td>0</td>\n",
       "      <td>0</td>\n",
       "      <td>0</td>\n",
       "    </tr>\n",
       "    <tr>\n",
       "      <th>1989</th>\n",
       "      <td>375000</td>\n",
       "      <td>1554</td>\n",
       "      <td>167.0</td>\n",
       "      <td>7.0</td>\n",
       "      <td>1</td>\n",
       "      <td>0</td>\n",
       "      <td>72.45</td>\n",
       "      <td>3</td>\n",
       "      <td>2</td>\n",
       "      <td>0</td>\n",
       "      <td>...</td>\n",
       "      <td>0</td>\n",
       "      <td>0</td>\n",
       "      <td>0</td>\n",
       "      <td>0</td>\n",
       "      <td>0</td>\n",
       "      <td>0</td>\n",
       "      <td>0</td>\n",
       "      <td>0</td>\n",
       "      <td>0</td>\n",
       "      <td>0</td>\n",
       "    </tr>\n",
       "    <tr>\n",
       "      <th>1990</th>\n",
       "      <td>520000</td>\n",
       "      <td>2152</td>\n",
       "      <td>125.0</td>\n",
       "      <td>3.0</td>\n",
       "      <td>1</td>\n",
       "      <td>0</td>\n",
       "      <td>110.00</td>\n",
       "      <td>4</td>\n",
       "      <td>3</td>\n",
       "      <td>2007</td>\n",
       "      <td>...</td>\n",
       "      <td>0</td>\n",
       "      <td>0</td>\n",
       "      <td>0</td>\n",
       "      <td>0</td>\n",
       "      <td>0</td>\n",
       "      <td>0</td>\n",
       "      <td>0</td>\n",
       "      <td>0</td>\n",
       "      <td>0</td>\n",
       "      <td>0</td>\n",
       "    </tr>\n",
       "    <tr>\n",
       "      <th>1991</th>\n",
       "      <td>213300</td>\n",
       "      <td>888</td>\n",
       "      <td>153.0</td>\n",
       "      <td>33.0</td>\n",
       "      <td>0</td>\n",
       "      <td>0</td>\n",
       "      <td>56.00</td>\n",
       "      <td>3</td>\n",
       "      <td>2</td>\n",
       "      <td>1987</td>\n",
       "      <td>...</td>\n",
       "      <td>0</td>\n",
       "      <td>0</td>\n",
       "      <td>0</td>\n",
       "      <td>0</td>\n",
       "      <td>0</td>\n",
       "      <td>0</td>\n",
       "      <td>0</td>\n",
       "      <td>0</td>\n",
       "      <td>0</td>\n",
       "      <td>0</td>\n",
       "    </tr>\n",
       "  </tbody>\n",
       "</table>\n",
       "<p>1992 rows × 1604 columns</p>\n",
       "</div>"
      ],
      "text/plain": [
       "      price(€)  monthly(€)  energy_performance_diagnosis_(kWhEP/m².year)  \\\n",
       "0       349500        1449                                         150.0   \n",
       "1       335000        1389                                           0.0   \n",
       "2      2490000       10270                                          99.0   \n",
       "3       356000        1476                                           0.0   \n",
       "4       388500        1610                                         214.0   \n",
       "...        ...         ...                                           ...   \n",
       "1987    148000         619                                         216.0   \n",
       "1988     75240         317                                         305.0   \n",
       "1989    375000        1554                                         167.0   \n",
       "1990    520000        2152                                         125.0   \n",
       "1991    213300         888                                         153.0   \n",
       "\n",
       "      Greenhouse_gas_emission(kgeqCO2/m².year)  terrace  view  area(m²)  room  \\\n",
       "0                                         35.0        1     0    105.00     5   \n",
       "1                                          0.0        1     0    185.00     5   \n",
       "2                                         19.0        0     1    220.00     5   \n",
       "3                                          0.0        0     0    130.00     5   \n",
       "4                                         11.0        1     0    102.00     6   \n",
       "...                                        ...      ...   ...       ...   ...   \n",
       "1987                                      11.0        1     0    127.00     5   \n",
       "1988                                       0.0        0     0    140.00     5   \n",
       "1989                                       7.0        1     0     72.45     3   \n",
       "1990                                       3.0        1     0    110.00     4   \n",
       "1991                                      33.0        0     0     56.00     3   \n",
       "\n",
       "      bedroom  year_of_construction  ...  ZAC Saint Sebastien  Zone Agricole  \\\n",
       "0           3                     0  ...                    0              0   \n",
       "1           4                  1976  ...                    0              0   \n",
       "2           5                     0  ...                    0              0   \n",
       "3           3                     0  ...                    0              0   \n",
       "4           4                  1986  ...                    0              0   \n",
       "...       ...                   ...  ...                  ...            ...   \n",
       "1987        4                  1988  ...                    0              0   \n",
       "1988        2                  1600  ...                    0              0   \n",
       "1989        2                     0  ...                    0              0   \n",
       "1990        3                  2007  ...                    0              0   \n",
       "1991        2                  1987  ...                    0              0   \n",
       "\n",
       "      Zone Industrielle  Zone Industrielle du Prat  Zone Nord Est Urbaine  \\\n",
       "0                     0                          0                      0   \n",
       "1                     0                          0                      0   \n",
       "2                     0                          0                      0   \n",
       "3                     0                          0                      0   \n",
       "4                     0                          0                      0   \n",
       "...                 ...                        ...                    ...   \n",
       "1987                  0                          0                      0   \n",
       "1988                  0                          0                      0   \n",
       "1989                  0                          0                      0   \n",
       "1990                  0                          0                      0   \n",
       "1991                  0                          0                      0   \n",
       "\n",
       "      Zone Ouest Urbaine  Zone Pavillonnaire  Zone Pietonne  Zone Rurale Nord  \\\n",
       "0                      0                   0              0                 0   \n",
       "1                      0                   0              0                 0   \n",
       "2                      0                   0              0                 0   \n",
       "3                      0                   0              0                 0   \n",
       "4                      0                   0              0                 0   \n",
       "...                  ...                 ...            ...               ...   \n",
       "1987                   0                   0              0                 0   \n",
       "1988                   0                   0              0                 0   \n",
       "1989                   0                   0              0                 0   \n",
       "1990                   0                   0              0                 0   \n",
       "1991                   0                   0              0                 0   \n",
       "\n",
       "      Île de Nantes  \n",
       "0                 0  \n",
       "1                 0  \n",
       "2                 0  \n",
       "3                 0  \n",
       "4                 0  \n",
       "...             ...  \n",
       "1987              0  \n",
       "1988              0  \n",
       "1989              0  \n",
       "1990              0  \n",
       "1991              0  \n",
       "\n",
       "[1992 rows x 1604 columns]"
      ]
     },
     "execution_count": 27,
     "metadata": {},
     "output_type": "execute_result"
    }
   ],
   "source": [
    "df = df.drop('for_sale', 1)\n",
    "df = df.drop('description', 1)\n",
    "df"
   ]
  },
  {
   "cell_type": "code",
   "execution_count": 28,
   "metadata": {},
   "outputs": [
    {
     "data": {
      "text/html": [
       "<div>\n",
       "<style scoped>\n",
       "    .dataframe tbody tr th:only-of-type {\n",
       "        vertical-align: middle;\n",
       "    }\n",
       "\n",
       "    .dataframe tbody tr th {\n",
       "        vertical-align: top;\n",
       "    }\n",
       "\n",
       "    .dataframe thead th {\n",
       "        text-align: right;\n",
       "    }\n",
       "</style>\n",
       "<table border=\"1\" class=\"dataframe\">\n",
       "  <thead>\n",
       "    <tr style=\"text-align: right;\">\n",
       "      <th></th>\n",
       "      <th>price(€)</th>\n",
       "    </tr>\n",
       "  </thead>\n",
       "  <tbody>\n",
       "    <tr>\n",
       "      <th>0</th>\n",
       "      <td>12.764259</td>\n",
       "    </tr>\n",
       "    <tr>\n",
       "      <th>1</th>\n",
       "      <td>12.721886</td>\n",
       "    </tr>\n",
       "    <tr>\n",
       "      <th>2</th>\n",
       "      <td>14.727793</td>\n",
       "    </tr>\n",
       "    <tr>\n",
       "      <th>3</th>\n",
       "      <td>12.782686</td>\n",
       "    </tr>\n",
       "    <tr>\n",
       "      <th>4</th>\n",
       "      <td>12.870048</td>\n",
       "    </tr>\n",
       "    <tr>\n",
       "      <th>...</th>\n",
       "      <td>...</td>\n",
       "    </tr>\n",
       "    <tr>\n",
       "      <th>1987</th>\n",
       "      <td>11.904968</td>\n",
       "    </tr>\n",
       "    <tr>\n",
       "      <th>1988</th>\n",
       "      <td>11.228438</td>\n",
       "    </tr>\n",
       "    <tr>\n",
       "      <th>1989</th>\n",
       "      <td>12.834681</td>\n",
       "    </tr>\n",
       "    <tr>\n",
       "      <th>1990</th>\n",
       "      <td>13.161584</td>\n",
       "    </tr>\n",
       "    <tr>\n",
       "      <th>1991</th>\n",
       "      <td>12.270455</td>\n",
       "    </tr>\n",
       "  </tbody>\n",
       "</table>\n",
       "<p>1992 rows × 1 columns</p>\n",
       "</div>"
      ],
      "text/plain": [
       "       price(€)\n",
       "0     12.764259\n",
       "1     12.721886\n",
       "2     14.727793\n",
       "3     12.782686\n",
       "4     12.870048\n",
       "...         ...\n",
       "1987  11.904968\n",
       "1988  11.228438\n",
       "1989  12.834681\n",
       "1990  13.161584\n",
       "1991  12.270455\n",
       "\n",
       "[1992 rows x 1 columns]"
      ]
     },
     "execution_count": 28,
     "metadata": {},
     "output_type": "execute_result"
    }
   ],
   "source": [
    "y1_price = pd.DataFrame(np.log(df['price(€)']))\n",
    "y2_monthly = pd.DataFrame(np.log(df['monthly(€)']))\n",
    "df = df.drop('price(€)', 1)\n",
    "df = df.drop('monthly(€)', 1)\n",
    "x = pd.DataFrame(df)\n",
    "y1_price"
   ]
  },
  {
   "cell_type": "markdown",
   "metadata": {},
   "source": [
    "<h1>Prediction of the prices</h1>"
   ]
  },
  {
   "cell_type": "markdown",
   "metadata": {},
   "source": [
    "<h2>Linear Regression</h2>"
   ]
  },
  {
   "cell_type": "code",
   "execution_count": 85,
   "metadata": {},
   "outputs": [],
   "source": [
    "from sklearn.linear_model import LinearRegression\n",
    "from sklearn.model_selection import train_test_split    \n",
    "\n",
    "model=LinearRegression()         \n",
    "\n",
    "X_train, X_test, Y_train_price, Y_test_price = train_test_split(x, y1_price.values.ravel(), test_size=0.2)    \n",
    "\n",
    "model.fit(X_train, Y_train_price)            \n",
    "predictions=model.predict(X_test)"
   ]
  },
  {
   "cell_type": "code",
   "execution_count": 86,
   "metadata": {},
   "outputs": [
    {
     "name": "stdout",
     "output_type": "stream",
     "text": [
      "Model score= 0.9419815767150225\n",
      "RMSE = 0.6315570304453816\n"
     ]
    }
   ],
   "source": [
    "from sklearn.metrics import mean_squared_error\n",
    "from math import sqrt\n",
    "\n",
    "print(\"Model score= \" + str(model.score(X_train, Y_train_price)))\n",
    "print(\"RMSE = \" + str(sqrt(mean_squared_error(Y_test_price, predictions))))"
   ]
  },
  {
   "cell_type": "markdown",
   "metadata": {},
   "source": [
    "<h2>Random Forest Regressor</h2>"
   ]
  },
  {
   "cell_type": "code",
   "execution_count": 87,
   "metadata": {},
   "outputs": [
    {
     "name": "stderr",
     "output_type": "stream",
     "text": [
      "C:\\Users\\admin\\Anaconda3\\lib\\site-packages\\sklearn\\ensemble\\forest.py:246: FutureWarning: The default value of n_estimators will change from 10 in version 0.20 to 100 in 0.22.\n",
      "  \"10 in version 0.20 to 100 in 0.22.\", FutureWarning)\n"
     ]
    }
   ],
   "source": [
    "from sklearn.ensemble import RandomForestRegressor\n",
    "\n",
    "model = RandomForestRegressor()\n",
    "\n",
    "X_train, X_test, Y_train_price, Y_test_price = train_test_split(x, y1_price.values.ravel(), test_size=0.2)    \n",
    "\n",
    "model.fit(X_train, Y_train_price)           \n",
    "predictions=model.predict(X_test)"
   ]
  },
  {
   "cell_type": "code",
   "execution_count": 88,
   "metadata": {},
   "outputs": [
    {
     "name": "stdout",
     "output_type": "stream",
     "text": [
      "Model score= 0.8965912426715187\n",
      "RMSE = 0.5250717380915336\n"
     ]
    }
   ],
   "source": [
    "from sklearn.metrics import mean_squared_error\n",
    "from math import sqrt\n",
    "\n",
    "print(\"Model score= \" + str(model.score(X_train, Y_train_price)))\n",
    "print(\"RMSE = \" + str(sqrt(mean_squared_error(Y_test_price, predictions))))"
   ]
  },
  {
   "cell_type": "markdown",
   "metadata": {},
   "source": [
    "<h2>Decision Tree Regressor</h2>"
   ]
  },
  {
   "cell_type": "code",
   "execution_count": 89,
   "metadata": {},
   "outputs": [],
   "source": [
    "from sklearn.tree import DecisionTreeRegressor\n",
    "\n",
    "model = DecisionTreeRegressor()\n",
    "\n",
    "X_train, X_test, Y_train_price, Y_test_price = train_test_split(x, y1_price.values.ravel(), test_size=0.2)     \n",
    "\n",
    "model.fit(X_train, Y_train_price)            \n",
    "predictions=model.predict(X_test)"
   ]
  },
  {
   "cell_type": "code",
   "execution_count": 90,
   "metadata": {},
   "outputs": [
    {
     "name": "stdout",
     "output_type": "stream",
     "text": [
      "Model score= 0.9999999995839493\n",
      "RMSE = 0.7536798142687766\n"
     ]
    }
   ],
   "source": [
    "from sklearn.metrics import mean_squared_error\n",
    "from math import sqrt\n",
    "\n",
    "print(\"Model score= \" + str(model.score(X_train, Y_train_price)))\n",
    "print(\"RMSE = \" + str(sqrt(mean_squared_error(Y_test_price, predictions))))"
   ]
  },
  {
   "cell_type": "markdown",
   "metadata": {},
   "source": [
    "<h2>Regression using Keras</h2>"
   ]
  },
  {
   "cell_type": "code",
   "execution_count": 91,
   "metadata": {},
   "outputs": [],
   "source": [
    "import matplotlib.pyplot as plt\n",
    "from keras.layers import Dense\n",
    "from keras.models import Sequential\n",
    "from keras.callbacks import EarlyStopping\n",
    "\n",
    "X_train, X_test, Y_train_price, Y_test_price = train_test_split(x, y1_price.values.ravel(), test_size=0.2)    \n",
    "\n",
    "model = Sequential()\n",
    "n_cols = x.shape[1]\n",
    "model.add(Dense(100,activation='relu',input_shape=(n_cols,)))\n",
    "model.add(Dense(120,activation='relu'))\n",
    "model.add(Dense(130,activation='relu'))\n",
    "model.add(Dense(120,activation='relu'))\n",
    "model.add(Dense(120,activation='relu'))\n",
    "model.add(Dense(1))\n",
    "model.compile(optimizer='adam',loss='mean_squared_error',metrics=['accuracy'])"
   ]
  },
  {
   "cell_type": "code",
   "execution_count": 92,
   "metadata": {},
   "outputs": [
    {
     "name": "stdout",
     "output_type": "stream",
     "text": [
      "Train on 1274 samples, validate on 319 samples\n",
      "Epoch 1/50\n",
      "1274/1274 [==============================] - 1s 835us/step - loss: 715.2236 - accuracy: 0.0000e+00 - val_loss: 109.8129 - val_accuracy: 0.0000e+00\n",
      "Epoch 2/50\n",
      "1274/1274 [==============================] - 0s 257us/step - loss: 416.3202 - accuracy: 0.0000e+00 - val_loss: 60.2237 - val_accuracy: 0.0000e+00\n",
      "Epoch 3/50\n",
      "1274/1274 [==============================] - 0s 250us/step - loss: 297.1890 - accuracy: 0.0000e+00 - val_loss: 45.8440 - val_accuracy: 0.0000e+00\n",
      "Epoch 4/50\n",
      "1274/1274 [==============================] - 0s 250us/step - loss: 1082.7949 - accuracy: 0.0000e+00 - val_loss: 30.7986 - val_accuracy: 0.0000e+00\n",
      "Epoch 5/50\n",
      "1274/1274 [==============================] - 0s 267us/step - loss: 88.7808 - accuracy: 0.0000e+00 - val_loss: 13.5077 - val_accuracy: 0.0000e+00\n",
      "Epoch 6/50\n",
      "1274/1274 [==============================] - 0s 245us/step - loss: 480.3410 - accuracy: 0.0000e+00 - val_loss: 15.5417 - val_accuracy: 0.0000e+00\n",
      "Epoch 7/50\n",
      "1274/1274 [==============================] - 0s 248us/step - loss: 143.8784 - accuracy: 0.0000e+00 - val_loss: 13.7308 - val_accuracy: 0.0000e+00\n",
      "Epoch 8/50\n",
      "1274/1274 [==============================] - 0s 279us/step - loss: 81.9300 - accuracy: 0.0000e+00 - val_loss: 65.2651 - val_accuracy: 0.0000e+00\n",
      "Epoch 9/50\n",
      "1274/1274 [==============================] - 0s 277us/step - loss: 23.0976 - accuracy: 0.0000e+00 - val_loss: 9.3527 - val_accuracy: 0.0000e+00\n",
      "Epoch 10/50\n",
      "1274/1274 [==============================] - 0s 270us/step - loss: 198.5487 - accuracy: 0.0000e+00 - val_loss: 12.6189 - val_accuracy: 0.0000e+00\n",
      "Epoch 11/50\n",
      "1274/1274 [==============================] - 0s 276us/step - loss: 10.6507 - accuracy: 0.0000e+00 - val_loss: 7.2566 - val_accuracy: 0.0000e+00\n",
      "Epoch 12/50\n",
      "1274/1274 [==============================] - 0s 255us/step - loss: 19.9990 - accuracy: 0.0000e+00 - val_loss: 9.1570 - val_accuracy: 0.0000e+00\n",
      "Epoch 13/50\n",
      "1274/1274 [==============================] - 0s 251us/step - loss: 50.0676 - accuracy: 0.0000e+00 - val_loss: 25.7285 - val_accuracy: 0.0000e+00\n",
      "Epoch 14/50\n",
      "1274/1274 [==============================] - 0s 262us/step - loss: 35.5347 - accuracy: 0.0000e+00 - val_loss: 12.5321 - val_accuracy: 0.0000e+00\n",
      "Epoch 15/50\n",
      "1274/1274 [==============================] - 0s 254us/step - loss: 8.0859 - accuracy: 0.0000e+00 - val_loss: 8.4194 - val_accuracy: 0.0000e+00\n",
      "Epoch 16/50\n",
      "1274/1274 [==============================] - 0s 250us/step - loss: 8.8944 - accuracy: 0.0000e+00 - val_loss: 9.5993 - val_accuracy: 0.0000e+00\n",
      "Epoch 17/50\n",
      "1274/1274 [==============================] - 0s 282us/step - loss: 8.4174 - accuracy: 0.0000e+00 - val_loss: 6.5576 - val_accuracy: 0.0000e+00\n",
      "Epoch 18/50\n",
      "1274/1274 [==============================] - 0s 249us/step - loss: 7.4456 - accuracy: 0.0000e+00 - val_loss: 5.7766 - val_accuracy: 0.0000e+00\n",
      "Epoch 19/50\n",
      "1274/1274 [==============================] - 0s 259us/step - loss: 8.3409 - accuracy: 0.0000e+00 - val_loss: 6.8001 - val_accuracy: 0.0000e+00\n",
      "Epoch 20/50\n",
      "1274/1274 [==============================] - 0s 270us/step - loss: 13.9260 - accuracy: 0.0000e+00 - val_loss: 8.9741 - val_accuracy: 0.0000e+00\n",
      "Epoch 21/50\n",
      "1274/1274 [==============================] - 0s 253us/step - loss: 6.2346 - accuracy: 0.0000e+00 - val_loss: 6.0126 - val_accuracy: 0.0000e+00\n",
      "Epoch 22/50\n",
      "1274/1274 [==============================] - 0s 250us/step - loss: 5.0360 - accuracy: 0.0000e+00 - val_loss: 5.8832 - val_accuracy: 0.0000e+00\n",
      "Epoch 23/50\n",
      "1274/1274 [==============================] - 0s 284us/step - loss: 5.3114 - accuracy: 0.0000e+00 - val_loss: 7.0545 - val_accuracy: 0.0000e+00\n",
      "Epoch 24/50\n",
      "1274/1274 [==============================] - 0s 258us/step - loss: 10.1498 - accuracy: 0.0000e+00 - val_loss: 9.5264 - val_accuracy: 0.0000e+00\n",
      "Epoch 25/50\n",
      "1274/1274 [==============================] - 0s 252us/step - loss: 6.5668 - accuracy: 0.0000e+00 - val_loss: 5.2427 - val_accuracy: 0.0000e+00\n",
      "Epoch 26/50\n",
      "1274/1274 [==============================] - 0s 253us/step - loss: 6.1064 - accuracy: 0.0000e+00 - val_loss: 6.0845 - val_accuracy: 0.0000e+00\n",
      "Epoch 27/50\n",
      "1274/1274 [==============================] - 0s 254us/step - loss: 4.2462 - accuracy: 0.0000e+00 - val_loss: 6.0625 - val_accuracy: 0.0000e+00\n",
      "Epoch 28/50\n",
      "1274/1274 [==============================] - 0s 248us/step - loss: 3.1213 - accuracy: 0.0000e+00 - val_loss: 4.3020 - val_accuracy: 0.0000e+00\n",
      "Epoch 29/50\n",
      "1274/1274 [==============================] - 0s 264us/step - loss: 2.8293 - accuracy: 0.0000e+00 - val_loss: 4.1905 - val_accuracy: 0.0000e+00\n",
      "Epoch 30/50\n",
      "1274/1274 [==============================] - 0s 250us/step - loss: 3.5204 - accuracy: 0.0000e+00 - val_loss: 3.9072 - val_accuracy: 0.0000e+00\n",
      "Epoch 31/50\n",
      "1274/1274 [==============================] - 0s 248us/step - loss: 3.2709 - accuracy: 0.0000e+00 - val_loss: 6.6663 - val_accuracy: 0.0000e+00\n",
      "Epoch 32/50\n",
      "1274/1274 [==============================] - 0s 253us/step - loss: 2.3867 - accuracy: 0.0000e+00 - val_loss: 3.3822 - val_accuracy: 0.0000e+00\n",
      "Epoch 33/50\n",
      "1274/1274 [==============================] - 0s 255us/step - loss: 1.5815 - accuracy: 0.0000e+00 - val_loss: 3.0241 - val_accuracy: 0.0000e+00\n",
      "Epoch 34/50\n",
      "1274/1274 [==============================] - 0s 253us/step - loss: 3.8172 - accuracy: 0.0000e+00 - val_loss: 2.9703 - val_accuracy: 0.0000e+00\n",
      "Epoch 35/50\n",
      "1274/1274 [==============================] - 0s 267us/step - loss: 4.7543 - accuracy: 0.0000e+00 - val_loss: 6.4579 - val_accuracy: 0.0000e+00\n",
      "Epoch 36/50\n",
      "1274/1274 [==============================] - 0s 252us/step - loss: 4.7898 - accuracy: 0.0000e+00 - val_loss: 3.9909 - val_accuracy: 0.0000e+00\n",
      "Epoch 37/50\n",
      "1274/1274 [==============================] - 0s 254us/step - loss: 2.2274 - accuracy: 0.0000e+00 - val_loss: 3.0688 - val_accuracy: 0.0000e+00\n",
      "Epoch 38/50\n",
      "1274/1274 [==============================] - 0s 254us/step - loss: 1.4241 - accuracy: 0.0000e+00 - val_loss: 2.7522 - val_accuracy: 0.0000e+00\n",
      "Epoch 39/50\n",
      "1274/1274 [==============================] - 0s 276us/step - loss: 1.3331 - accuracy: 0.0000e+00 - val_loss: 2.3828 - val_accuracy: 0.0000e+00\n",
      "Epoch 40/50\n",
      "1274/1274 [==============================] - 0s 268us/step - loss: 1.1704 - accuracy: 0.0000e+00 - val_loss: 2.4507 - val_accuracy: 0.0000e+00\n",
      "Epoch 41/50\n",
      "1274/1274 [==============================] - 0s 275us/step - loss: 2.8187 - accuracy: 0.0000e+00 - val_loss: 3.8050 - val_accuracy: 0.0000e+00\n",
      "Epoch 42/50\n",
      "1274/1274 [==============================] - 0s 253us/step - loss: 4.3309 - accuracy: 0.0000e+00 - val_loss: 3.6400 - val_accuracy: 0.0000e+00\n",
      "Epoch 43/50\n",
      "1274/1274 [==============================] - 0s 249us/step - loss: 2.0577 - accuracy: 0.0000e+00 - val_loss: 3.0434 - val_accuracy: 0.0000e+00\n",
      "Epoch 44/50\n",
      "1274/1274 [==============================] - 0s 253us/step - loss: 7.0112 - accuracy: 0.0000e+00 - val_loss: 3.4414 - val_accuracy: 0.0000e+00\n",
      "Epoch 45/50\n",
      "1274/1274 [==============================] - 0s 253us/step - loss: 6.5574 - accuracy: 0.0000e+00 - val_loss: 6.0481 - val_accuracy: 0.0000e+00\n",
      "Epoch 46/50\n",
      "1274/1274 [==============================] - 0s 253us/step - loss: 15.3035 - accuracy: 0.0000e+00 - val_loss: 6.5394 - val_accuracy: 0.0000e+00\n",
      "Epoch 47/50\n",
      "1274/1274 [==============================] - 0s 283us/step - loss: 8.3597 - accuracy: 0.0000e+00 - val_loss: 3.1980 - val_accuracy: 0.0000e+00\n",
      "Epoch 48/50\n",
      "1274/1274 [==============================] - 0s 268us/step - loss: 16.8879 - accuracy: 0.0000e+00 - val_loss: 5.2954 - val_accuracy: 0.0000e+00\n",
      "Epoch 49/50\n",
      "1274/1274 [==============================] - 0s 276us/step - loss: 17.0711 - accuracy: 0.0000e+00 - val_loss: 4.2513 - val_accuracy: 0.0000e+00\n",
      "Epoch 50/50\n",
      "1274/1274 [==============================] - 0s 268us/step - loss: 20.8416 - accuracy: 0.0000e+00 - val_loss: 7.1671 - val_accuracy: 0.0000e+00\n"
     ]
    },
    {
     "data": {
      "image/png": "[encoded data removed]",
      "text/plain": [
       "<Figure size 432x288 with 1 Axes>"
      ]
     },
     "metadata": {
      "needs_background": "light"
     },
     "output_type": "display_data"
    }
   ],
   "source": [
    "history = model.fit(X_train, Y_train_price,validation_split = 0.2, epochs=50)\n",
    "plt.plot(history.history['accuracy'])\n",
    "plt.plot(history.history['val_accuracy'])\n",
    "plt.title('model accuracy')\n",
    "plt.ylabel('accuracy')\n",
    "plt.xlabel('epoch')\n",
    "plt.legend(['train', 'val'], loc='upper left')\n",
    "plt.show()"
   ]
  },
  {
   "cell_type": "code",
   "execution_count": 93,
   "metadata": {},
   "outputs": [
    {
     "data": {
      "image/png": "[encoded data removed]",
      "text/plain": [
       "<Figure size 432x288 with 1 Axes>"
      ]
     },
     "metadata": {
      "needs_background": "light"
     },
     "output_type": "display_data"
    }
   ],
   "source": [
    "plt.plot(history.history['loss'])\n",
    "plt.plot(history.history['val_loss'])\n",
    "plt.title('model loss')\n",
    "plt.ylabel('loss')\n",
    "plt.xlabel('epoch')\n",
    "plt.legend(['train', 'val'], loc='upper left')\n",
    "plt.show()"
   ]
  },
  {
   "cell_type": "code",
   "execution_count": 94,
   "metadata": {},
   "outputs": [
    {
     "name": "stdout",
     "output_type": "stream",
     "text": [
      "RMSE = 0.9973624660675819\n"
     ]
    }
   ],
   "source": [
    "from sklearn.metrics import mean_squared_error\n",
    "from math import sqrt\n",
    "\n",
    "print(\"RMSE = \" + str(sqrt(mean_squared_error(Y_test_price, predictions))))"
   ]
  },
  {
   "cell_type": "markdown",
   "metadata": {},
   "source": [
    "<h1>Prediction of the monthly prices</h1>"
   ]
  },
  {
   "cell_type": "markdown",
   "metadata": {},
   "source": [
    "<h2>Linear Regression</h2>"
   ]
  },
  {
   "cell_type": "code",
   "execution_count": 105,
   "metadata": {},
   "outputs": [],
   "source": [
    "from sklearn.linear_model import LinearRegression\n",
    "from sklearn.model_selection import train_test_split    \n",
    "\n",
    "model=LinearRegression()         \n",
    "\n",
    "X_train, X_test, Y_train_monthly, Y_test_monthly = train_test_split(x, y2_monthly.values.ravel(), test_size=0.2)    \n",
    "\n",
    "model.fit(X_train, Y_train_monthly)            \n",
    "predictions=model.predict(X_test)"
   ]
  },
  {
   "cell_type": "code",
   "execution_count": 106,
   "metadata": {},
   "outputs": [
    {
     "name": "stdout",
     "output_type": "stream",
     "text": [
      "Model score= 0.9544945662455779\n",
      "RMSE = 0.5030724725051191\n"
     ]
    }
   ],
   "source": [
    "from sklearn.metrics import mean_squared_error\n",
    "from math import sqrt\n",
    "\n",
    "print(\"Model score= \" + str(model.score(X_train, Y_train_monthly)))\n",
    "print(\"RMSE = \" + str(sqrt(mean_squared_error(Y_test_monthly, predictions))))"
   ]
  },
  {
   "cell_type": "markdown",
   "metadata": {},
   "source": [
    "<h2>Random Forest Regressor</h2>"
   ]
  },
  {
   "cell_type": "code",
   "execution_count": 101,
   "metadata": {},
   "outputs": [
    {
     "name": "stderr",
     "output_type": "stream",
     "text": [
      "C:\\Users\\admin\\Anaconda3\\lib\\site-packages\\sklearn\\ensemble\\forest.py:246: FutureWarning: The default value of n_estimators will change from 10 in version 0.20 to 100 in 0.22.\n",
      "  \"10 in version 0.20 to 100 in 0.22.\", FutureWarning)\n"
     ]
    }
   ],
   "source": [
    "from sklearn.ensemble import RandomForestRegressor\n",
    "\n",
    "model = RandomForestRegressor()\n",
    "\n",
    "X_train, X_test, Y_train_monthly, Y_test_monthly = train_test_split(x, y2_monthly.values.ravel(), test_size=0.2)    \n",
    "\n",
    "model.fit(X_train, Y_train_monthly)           \n",
    "predictions=model.predict(X_test)"
   ]
  },
  {
   "cell_type": "code",
   "execution_count": 107,
   "metadata": {},
   "outputs": [
    {
     "name": "stdout",
     "output_type": "stream",
     "text": [
      "Model score= 0.9544945662455779\n",
      "RMSE = 0.5030724725051191\n"
     ]
    }
   ],
   "source": [
    "from sklearn.metrics import mean_squared_error\n",
    "from math import sqrt\n",
    "\n",
    "print(\"Model score= \" + str(model.score(X_train, Y_train_monthly)))\n",
    "print(\"RMSE = \" + str(sqrt(mean_squared_error(Y_test_monthly, predictions))))"
   ]
  },
  {
   "cell_type": "markdown",
   "metadata": {},
   "source": [
    "<h2>Decision Tree Regressor</h2>"
   ]
  },
  {
   "cell_type": "code",
   "execution_count": 110,
   "metadata": {},
   "outputs": [],
   "source": [
    "from sklearn.tree import DecisionTreeRegressor\n",
    "\n",
    "model = DecisionTreeRegressor()\n",
    "\n",
    "X_train, X_test, Y_train_monthly, Y_test_monthly = train_test_split(x, y2_monthly.values.ravel(), test_size=0.2)     \n",
    "\n",
    "model.fit(X_train, Y_train_monthly)            \n",
    "predictions=model.predict(X_test)"
   ]
  },
  {
   "cell_type": "code",
   "execution_count": 111,
   "metadata": {},
   "outputs": [
    {
     "name": "stdout",
     "output_type": "stream",
     "text": [
      "Model score= 1.0\n",
      "RMSE = 0.6984422201184639\n"
     ]
    }
   ],
   "source": [
    "from sklearn.metrics import mean_squared_error\n",
    "from math import sqrt\n",
    "\n",
    "print(\"Model score= \" + str(model.score(X_train, Y_train_monthly)))\n",
    "print(\"RMSE = \" + str(sqrt(mean_squared_error(Y_test_monthly, predictions))))"
   ]
  },
  {
   "cell_type": "markdown",
   "metadata": {},
   "source": [
    "<h2>Regression using Keras</h2>"
   ]
  },
  {
   "cell_type": "code",
   "execution_count": 121,
   "metadata": {},
   "outputs": [],
   "source": [
    "import matplotlib.pyplot as plt\n",
    "from keras.layers import Dense\n",
    "from keras.models import Sequential\n",
    "from keras.callbacks import EarlyStopping\n",
    "\n",
    "X_train, X_test, Y_train_monthly, Y_test_monthly = train_test_split(x, y2_monthly.values.ravel(), test_size=0.2)    \n",
    "\n",
    "model = Sequential()\n",
    "n_cols = x.shape[1]\n",
    "model.add(Dense(100,activation='relu',input_shape=(n_cols,)))\n",
    "model.add(Dense(120,activation='relu'))\n",
    "model.add(Dense(130,activation='relu'))\n",
    "model.add(Dense(120,activation='relu'))\n",
    "model.add(Dense(120,activation='relu'))\n",
    "model.add(Dense(1))\n",
    "model.compile(optimizer='adam',loss='mean_squared_error',metrics=['accuracy'])"
   ]
  },
  {
   "cell_type": "code",
   "execution_count": 122,
   "metadata": {},
   "outputs": [
    {
     "name": "stdout",
     "output_type": "stream",
     "text": [
      "Train on 1274 samples, validate on 319 samples\n",
      "Epoch 1/50\n",
      "1274/1274 [==============================] - 1s 567us/step - loss: 3447.2479 - accuracy: 0.0000e+00 - val_loss: 243.3219 - val_accuracy: 0.0000e+00\n",
      "Epoch 2/50\n",
      "1274/1274 [==============================] - 0s 316us/step - loss: 7092.0250 - accuracy: 0.0000e+00 - val_loss: 112.7526 - val_accuracy: 0.0000e+00\n",
      "Epoch 3/50\n",
      "1274/1274 [==============================] - 0s 262us/step - loss: 1952.3313 - accuracy: 0.0000e+00 - val_loss: 22.3198 - val_accuracy: 0.0000e+00\n",
      "Epoch 4/50\n",
      "1274/1274 [==============================] - 0s 265us/step - loss: 800.6002 - accuracy: 0.0000e+00 - val_loss: 29.9819 - val_accuracy: 0.0000e+00\n",
      "Epoch 5/50\n",
      "1274/1274 [==============================] - 0s 267us/step - loss: 21.5746 - accuracy: 0.0000e+00 - val_loss: 3.2747 - val_accuracy: 0.0000e+00\n",
      "Epoch 6/50\n",
      "1274/1274 [==============================] - 0s 273us/step - loss: 116.4711 - accuracy: 0.0000e+00 - val_loss: 6.0388 - val_accuracy: 0.0000e+00\n",
      "Epoch 7/50\n",
      "1274/1274 [==============================] - 0s 286us/step - loss: 127.9132 - accuracy: 0.0000e+00 - val_loss: 23.3906 - val_accuracy: 0.0000e+00\n",
      "Epoch 8/50\n",
      "1274/1274 [==============================] - 0s 264us/step - loss: 1155.6377 - accuracy: 0.0000e+00 - val_loss: 401.9748 - val_accuracy: 0.0000e+00\n",
      "Epoch 9/50\n",
      "1274/1274 [==============================] - 0s 269us/step - loss: 372.0363 - accuracy: 0.0000e+00 - val_loss: 69.6001 - val_accuracy: 0.0000e+00\n",
      "Epoch 10/50\n",
      "1274/1274 [==============================] - 0s 280us/step - loss: 813.8128 - accuracy: 0.0000e+00 - val_loss: 16.8588 - val_accuracy: 0.0000e+00\n",
      "Epoch 11/50\n",
      "1274/1274 [==============================] - 0s 267us/step - loss: 140.8620 - accuracy: 0.0000e+00 - val_loss: 29.1970 - val_accuracy: 0.0000e+00\n",
      "Epoch 12/50\n",
      "1274/1274 [==============================] - 0s 262us/step - loss: 445.5223 - accuracy: 0.0000e+00 - val_loss: 4.0699 - val_accuracy: 0.0000e+00\n",
      "Epoch 13/50\n",
      "1274/1274 [==============================] - 0s 279us/step - loss: 20.4441 - accuracy: 0.0000e+00 - val_loss: 23.8661 - val_accuracy: 0.0000e+00\n",
      "Epoch 14/50\n",
      "1274/1274 [==============================] - 0s 270us/step - loss: 123.3287 - accuracy: 0.0000e+00 - val_loss: 2.9636 - val_accuracy: 0.0000e+00\n",
      "Epoch 15/50\n",
      "1274/1274 [==============================] - 0s 279us/step - loss: 9.2855 - accuracy: 0.0000e+00 - val_loss: 10.6820 - val_accuracy: 0.0000e+00\n",
      "Epoch 16/50\n",
      "1274/1274 [==============================] - 0s 272us/step - loss: 112.7395 - accuracy: 0.0000e+00 - val_loss: 13.1095 - val_accuracy: 0.0000e+00\n",
      "Epoch 17/50\n",
      "1274/1274 [==============================] - 0s 268us/step - loss: 38.7018 - accuracy: 0.0000e+00 - val_loss: 4.9817 - val_accuracy: 0.0000e+00\n",
      "Epoch 18/50\n",
      "1274/1274 [==============================] - 0s 274us/step - loss: 8.5962 - accuracy: 0.0000e+00 - val_loss: 2.8585 - val_accuracy: 0.0000e+00\n",
      "Epoch 19/50\n",
      "1274/1274 [==============================] - 0s 277us/step - loss: 22.1280 - accuracy: 0.0000e+00 - val_loss: 9.0850 - val_accuracy: 0.0000e+00\n",
      "Epoch 20/50\n",
      "1274/1274 [==============================] - 0s 270us/step - loss: 30.0270 - accuracy: 0.0000e+00 - val_loss: 2.8383 - val_accuracy: 0.0000e+00\n",
      "Epoch 21/50\n",
      "1274/1274 [==============================] - 0s 260us/step - loss: 5.8620 - accuracy: 0.0000e+00 - val_loss: 2.5333 - val_accuracy: 0.0000e+00\n",
      "Epoch 22/50\n",
      "1274/1274 [==============================] - 0s 259us/step - loss: 11.4516 - accuracy: 0.0000e+00 - val_loss: 6.3348 - val_accuracy: 0.0000e+00\n",
      "Epoch 23/50\n",
      "1274/1274 [==============================] - 0s 268us/step - loss: 20.2718 - accuracy: 0.0000e+00 - val_loss: 2.7288 - val_accuracy: 0.0000e+00\n",
      "Epoch 24/50\n",
      "1274/1274 [==============================] - 0s 257us/step - loss: 8.8779 - accuracy: 0.0000e+00 - val_loss: 2.1292 - val_accuracy: 0.0000e+00\n",
      "Epoch 25/50\n",
      "1274/1274 [==============================] - 0s 279us/step - loss: 4.1827 - accuracy: 0.0000e+00 - val_loss: 2.0421 - val_accuracy: 0.0000e+00\n",
      "Epoch 26/50\n",
      "1274/1274 [==============================] - 0s 269us/step - loss: 1.9061 - accuracy: 0.0000e+00 - val_loss: 1.7953 - val_accuracy: 0.0000e+00\n",
      "Epoch 27/50\n",
      "1274/1274 [==============================] - 0s 262us/step - loss: 2.3061 - accuracy: 0.0000e+00 - val_loss: 1.8551 - val_accuracy: 0.0000e+00\n",
      "Epoch 28/50\n",
      "1274/1274 [==============================] - 0s 273us/step - loss: 1.5555 - accuracy: 0.0000e+00 - val_loss: 1.7750 - val_accuracy: 0.0000e+00\n",
      "Epoch 29/50\n",
      "1274/1274 [==============================] - 0s 290us/step - loss: 1.5104 - accuracy: 0.0000e+00 - val_loss: 1.4872 - val_accuracy: 0.0000e+00\n",
      "Epoch 30/50\n",
      "1274/1274 [==============================] - 0s 344us/step - loss: 1.2443 - accuracy: 0.0000e+00 - val_loss: 1.2560 - val_accuracy: 0.0000e+00\n",
      "Epoch 31/50\n",
      "1274/1274 [==============================] - 0s 276us/step - loss: 1.0045 - accuracy: 0.0000e+00 - val_loss: 1.3411 - val_accuracy: 0.0000e+00\n",
      "Epoch 32/50\n",
      "1274/1274 [==============================] - 0s 257us/step - loss: 1.6945 - accuracy: 0.0000e+00 - val_loss: 1.3840 - val_accuracy: 0.0000e+00\n",
      "Epoch 33/50\n",
      "1274/1274 [==============================] - 0s 262us/step - loss: 2.0032 - accuracy: 0.0000e+00 - val_loss: 1.3855 - val_accuracy: 0.0000e+00\n",
      "Epoch 34/50\n",
      "1274/1274 [==============================] - 0s 259us/step - loss: 1.1491 - accuracy: 0.0000e+00 - val_loss: 1.2641 - val_accuracy: 0.0000e+00\n",
      "Epoch 35/50\n",
      "1274/1274 [==============================] - 0s 259us/step - loss: 1.0395 - accuracy: 0.0000e+00 - val_loss: 1.0843 - val_accuracy: 0.0000e+00\n",
      "Epoch 36/50\n",
      "1274/1274 [==============================] - 0s 267us/step - loss: 0.7600 - accuracy: 0.0000e+00 - val_loss: 1.1114 - val_accuracy: 0.0000e+00\n",
      "Epoch 37/50\n",
      "1274/1274 [==============================] - 0s 283us/step - loss: 0.7215 - accuracy: 0.0000e+00 - val_loss: 1.0127 - val_accuracy: 0.0000e+00\n",
      "Epoch 38/50\n",
      "1274/1274 [==============================] - 0s 292us/step - loss: 0.8489 - accuracy: 0.0000e+00 - val_loss: 1.2873 - val_accuracy: 0.0000e+00\n",
      "Epoch 39/50\n",
      "1274/1274 [==============================] - 0s 285us/step - loss: 0.8750 - accuracy: 0.0000e+00 - val_loss: 1.2553 - val_accuracy: 0.0000e+00\n",
      "Epoch 40/50\n",
      "1274/1274 [==============================] - 0s 268us/step - loss: 8.2498 - accuracy: 0.0000e+00 - val_loss: 6.0844 - val_accuracy: 0.0000e+00\n",
      "Epoch 41/50\n",
      "1274/1274 [==============================] - 0s 278us/step - loss: 6.9385 - accuracy: 0.0000e+00 - val_loss: 2.0539 - val_accuracy: 0.0000e+00\n",
      "Epoch 42/50\n",
      "1274/1274 [==============================] - 0s 268us/step - loss: 3.6678 - accuracy: 0.0000e+00 - val_loss: 4.4167 - val_accuracy: 0.0000e+00\n",
      "Epoch 43/50\n",
      "1274/1274 [==============================] - 0s 272us/step - loss: 7.5854 - accuracy: 0.0000e+00 - val_loss: 3.0380 - val_accuracy: 0.0000e+00\n",
      "Epoch 44/50\n",
      "1274/1274 [==============================] - 0s 276us/step - loss: 12.4975 - accuracy: 0.0000e+00 - val_loss: 1.8717 - val_accuracy: 0.0000e+00\n",
      "Epoch 45/50\n",
      "1274/1274 [==============================] - 0s 285us/step - loss: 2.6329 - accuracy: 0.0000e+00 - val_loss: 1.2676 - val_accuracy: 0.0000e+00\n",
      "Epoch 46/50\n",
      "1274/1274 [==============================] - 0s 281us/step - loss: 3.2545 - accuracy: 0.0000e+00 - val_loss: 1.9081 - val_accuracy: 0.0000e+00\n",
      "Epoch 47/50\n",
      "1274/1274 [==============================] - 0s 287us/step - loss: 1.0969 - accuracy: 0.0000e+00 - val_loss: 1.1372 - val_accuracy: 0.0000e+00\n",
      "Epoch 48/50\n",
      "1274/1274 [==============================] - 0s 302us/step - loss: 1.3647 - accuracy: 0.0000e+00 - val_loss: 1.2899 - val_accuracy: 0.0000e+00\n",
      "Epoch 49/50\n",
      "1274/1274 [==============================] - 0s 289us/step - loss: 1.1767 - accuracy: 0.0000e+00 - val_loss: 1.4820 - val_accuracy: 0.0000e+00\n",
      "Epoch 50/50\n",
      "1274/1274 [==============================] - 0s 276us/step - loss: 1.3622 - accuracy: 0.0000e+00 - val_loss: 1.1786 - val_accuracy: 0.0000e+00\n"
     ]
    },
    {
     "data": {
      "image/png": "[encoded data removed]",
      "text/plain": [
       "<Figure size 432x288 with 1 Axes>"
      ]
     },
     "metadata": {
      "needs_background": "light"
     },
     "output_type": "display_data"
    }
   ],
   "source": [
    "history = model.fit(X_train, Y_train_monthly,validation_split = 0.2, epochs=50)\n",
    "plt.plot(history.history['accuracy'])\n",
    "plt.plot(history.history['val_accuracy'])\n",
    "plt.title('model accuracy')\n",
    "plt.ylabel('accuracy')\n",
    "plt.xlabel('epoch')\n",
    "plt.legend(['train', 'val'], loc='upper left')\n",
    "plt.show()"
   ]
  },
  {
   "cell_type": "code",
   "execution_count": 123,
   "metadata": {},
   "outputs": [
    {
     "data": {
      "image/png": "[encoded data removed]",
      "text/plain": [
       "<Figure size 432x288 with 1 Axes>"
      ]
     },
     "metadata": {
      "needs_background": "light"
     },
     "output_type": "display_data"
    }
   ],
   "source": [
    "plt.plot(history.history['loss'])\n",
    "plt.plot(history.history['val_loss'])\n",
    "plt.title('model loss')\n",
    "plt.ylabel('loss')\n",
    "plt.xlabel('epoch')\n",
    "plt.legend(['train', 'val'], loc='upper left')\n",
    "plt.show()"
   ]
  },
  {
   "cell_type": "code",
   "execution_count": 124,
   "metadata": {},
   "outputs": [
    {
     "name": "stdout",
     "output_type": "stream",
     "text": [
      "RMSE = 1.0632480108580507\n"
     ]
    }
   ],
   "source": [
    "from sklearn.metrics import mean_squared_error\n",
    "from math import sqrt\n",
    "\n",
    "print(\"RMSE = \" + str(sqrt(mean_squared_error(Y_test_monthly, predictions))))"
   ]
  }
 ],
 "metadata": {
  "kernelspec": {
   "display_name": "Python 3",
   "language": "python",
   "name": "python3"
  },
  "language_info": {
   "codemirror_mode": {
    "name": "ipython",
    "version": 3
   },
   "file_extension": ".py",
   "mimetype": "text/x-python",
   "name": "python",
   "nbconvert_exporter": "python",
   "pygments_lexer": "ipython3",
   "version": "3.7.3"
  }
 },
 "nbformat": 4,
 "nbformat_minor": 2
}
