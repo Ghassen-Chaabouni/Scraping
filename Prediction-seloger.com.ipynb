{
 "cells": [
  {
   "cell_type": "code",
   "execution_count": 166,
   "metadata": {},
   "outputs": [],
   "source": [
    "import pandas as pd\n",
    "import numpy as np"
   ]
  },
  {
   "cell_type": "code",
   "execution_count": 167,
   "metadata": {},
   "outputs": [
    {
     "name": "stderr",
     "output_type": "stream",
     "text": [
      "C:\\Users\\admin\\Anaconda3\\lib\\site-packages\\IPython\\core\\interactiveshell.py:3049: DtypeWarning: Columns (1,2) have mixed types. Specify dtype option on import or set low_memory=False.\n",
      "  interactivity=interactivity, compiler=compiler, result=result)\n"
     ]
    }
   ],
   "source": [
    "df = pd.read_csv(\"final_clean_data.csv\")"
   ]
  },
  {
   "cell_type": "code",
   "execution_count": 168,
   "metadata": {},
   "outputs": [
    {
     "data": {
      "text/html": [
       "<div>\n",
       "<style scoped>\n",
       "    .dataframe tbody tr th:only-of-type {\n",
       "        vertical-align: middle;\n",
       "    }\n",
       "\n",
       "    .dataframe tbody tr th {\n",
       "        vertical-align: top;\n",
       "    }\n",
       "\n",
       "    .dataframe thead th {\n",
       "        text-align: right;\n",
       "    }\n",
       "</style>\n",
       "<table border=\"1\" class=\"dataframe\">\n",
       "  <thead>\n",
       "    <tr style=\"text-align: right;\">\n",
       "      <th></th>\n",
       "      <th>price(€)</th>\n",
       "      <th>monthly(€)</th>\n",
       "      <th>energy_performance_diagnosis_(kWhEP/m².year)</th>\n",
       "      <th>Greenhouse_gas_emission(kgeqCO2/m².year)</th>\n",
       "      <th>terrace</th>\n",
       "      <th>view</th>\n",
       "      <th>area(m²)</th>\n",
       "      <th>room</th>\n",
       "      <th>bedroom</th>\n",
       "      <th>year_of_construction</th>\n",
       "      <th>...</th>\n",
       "      <th>ZAC Saint Sebastien</th>\n",
       "      <th>Zone Agricole</th>\n",
       "      <th>Zone Industrielle</th>\n",
       "      <th>Zone Industrielle du Prat</th>\n",
       "      <th>Zone Nord Est Urbaine</th>\n",
       "      <th>Zone Ouest Urbaine</th>\n",
       "      <th>Zone Pavillonnaire</th>\n",
       "      <th>Zone Pietonne</th>\n",
       "      <th>Zone Rurale Nord</th>\n",
       "      <th>Île de Nantes</th>\n",
       "    </tr>\n",
       "  </thead>\n",
       "  <tbody>\n",
       "    <tr>\n",
       "      <th>0</th>\n",
       "      <td>165000</td>\n",
       "      <td>689</td>\n",
       "      <td>239.0</td>\n",
       "      <td>0.0</td>\n",
       "      <td>1</td>\n",
       "      <td>0</td>\n",
       "      <td>39.63</td>\n",
       "      <td>2</td>\n",
       "      <td>1</td>\n",
       "      <td>0</td>\n",
       "      <td>...</td>\n",
       "      <td>0</td>\n",
       "      <td>0</td>\n",
       "      <td>0</td>\n",
       "      <td>0</td>\n",
       "      <td>0</td>\n",
       "      <td>0</td>\n",
       "      <td>0</td>\n",
       "      <td>0</td>\n",
       "      <td>0</td>\n",
       "      <td>0</td>\n",
       "    </tr>\n",
       "    <tr>\n",
       "      <th>1</th>\n",
       "      <td>230000</td>\n",
       "      <td>957</td>\n",
       "      <td>318.0</td>\n",
       "      <td>10.0</td>\n",
       "      <td>0</td>\n",
       "      <td>0</td>\n",
       "      <td>64.00</td>\n",
       "      <td>3</td>\n",
       "      <td>1</td>\n",
       "      <td>0</td>\n",
       "      <td>...</td>\n",
       "      <td>0</td>\n",
       "      <td>0</td>\n",
       "      <td>0</td>\n",
       "      <td>0</td>\n",
       "      <td>0</td>\n",
       "      <td>0</td>\n",
       "      <td>0</td>\n",
       "      <td>0</td>\n",
       "      <td>0</td>\n",
       "      <td>0</td>\n",
       "    </tr>\n",
       "    <tr>\n",
       "      <th>2</th>\n",
       "      <td>760000</td>\n",
       "      <td>3141</td>\n",
       "      <td>0.0</td>\n",
       "      <td>0.0</td>\n",
       "      <td>1</td>\n",
       "      <td>0</td>\n",
       "      <td>254.00</td>\n",
       "      <td>7</td>\n",
       "      <td>5</td>\n",
       "      <td>1982</td>\n",
       "      <td>...</td>\n",
       "      <td>0</td>\n",
       "      <td>0</td>\n",
       "      <td>0</td>\n",
       "      <td>0</td>\n",
       "      <td>0</td>\n",
       "      <td>0</td>\n",
       "      <td>0</td>\n",
       "      <td>0</td>\n",
       "      <td>0</td>\n",
       "      <td>0</td>\n",
       "    </tr>\n",
       "    <tr>\n",
       "      <th>3</th>\n",
       "      <td>349000</td>\n",
       "      <td>1447</td>\n",
       "      <td>131.0</td>\n",
       "      <td>30.0</td>\n",
       "      <td>0</td>\n",
       "      <td>0</td>\n",
       "      <td>82.00</td>\n",
       "      <td>4</td>\n",
       "      <td>2</td>\n",
       "      <td>1990</td>\n",
       "      <td>...</td>\n",
       "      <td>0</td>\n",
       "      <td>0</td>\n",
       "      <td>0</td>\n",
       "      <td>0</td>\n",
       "      <td>0</td>\n",
       "      <td>0</td>\n",
       "      <td>0</td>\n",
       "      <td>0</td>\n",
       "      <td>0</td>\n",
       "      <td>0</td>\n",
       "    </tr>\n",
       "    <tr>\n",
       "      <th>4</th>\n",
       "      <td>365000</td>\n",
       "      <td>1513</td>\n",
       "      <td>109.0</td>\n",
       "      <td>29.0</td>\n",
       "      <td>0</td>\n",
       "      <td>0</td>\n",
       "      <td>260.00</td>\n",
       "      <td>10</td>\n",
       "      <td>5</td>\n",
       "      <td>1900</td>\n",
       "      <td>...</td>\n",
       "      <td>0</td>\n",
       "      <td>0</td>\n",
       "      <td>0</td>\n",
       "      <td>0</td>\n",
       "      <td>0</td>\n",
       "      <td>0</td>\n",
       "      <td>0</td>\n",
       "      <td>0</td>\n",
       "      <td>0</td>\n",
       "      <td>0</td>\n",
       "    </tr>\n",
       "    <tr>\n",
       "      <th>...</th>\n",
       "      <td>...</td>\n",
       "      <td>...</td>\n",
       "      <td>...</td>\n",
       "      <td>...</td>\n",
       "      <td>...</td>\n",
       "      <td>...</td>\n",
       "      <td>...</td>\n",
       "      <td>...</td>\n",
       "      <td>...</td>\n",
       "      <td>...</td>\n",
       "      <td>...</td>\n",
       "      <td>...</td>\n",
       "      <td>...</td>\n",
       "      <td>...</td>\n",
       "      <td>...</td>\n",
       "      <td>...</td>\n",
       "      <td>...</td>\n",
       "      <td>...</td>\n",
       "      <td>...</td>\n",
       "      <td>...</td>\n",
       "      <td>...</td>\n",
       "    </tr>\n",
       "    <tr>\n",
       "      <th>1922</th>\n",
       "      <td>148000</td>\n",
       "      <td>619</td>\n",
       "      <td>216.0</td>\n",
       "      <td>11.0</td>\n",
       "      <td>1</td>\n",
       "      <td>0</td>\n",
       "      <td>127.00</td>\n",
       "      <td>5</td>\n",
       "      <td>4</td>\n",
       "      <td>1988</td>\n",
       "      <td>...</td>\n",
       "      <td>0</td>\n",
       "      <td>0</td>\n",
       "      <td>0</td>\n",
       "      <td>0</td>\n",
       "      <td>0</td>\n",
       "      <td>0</td>\n",
       "      <td>0</td>\n",
       "      <td>0</td>\n",
       "      <td>0</td>\n",
       "      <td>0</td>\n",
       "    </tr>\n",
       "    <tr>\n",
       "      <th>1923</th>\n",
       "      <td>75240</td>\n",
       "      <td>317</td>\n",
       "      <td>305.0</td>\n",
       "      <td>0.0</td>\n",
       "      <td>0</td>\n",
       "      <td>0</td>\n",
       "      <td>140.00</td>\n",
       "      <td>5</td>\n",
       "      <td>2</td>\n",
       "      <td>1600</td>\n",
       "      <td>...</td>\n",
       "      <td>0</td>\n",
       "      <td>0</td>\n",
       "      <td>0</td>\n",
       "      <td>0</td>\n",
       "      <td>0</td>\n",
       "      <td>0</td>\n",
       "      <td>0</td>\n",
       "      <td>0</td>\n",
       "      <td>0</td>\n",
       "      <td>0</td>\n",
       "    </tr>\n",
       "    <tr>\n",
       "      <th>1924</th>\n",
       "      <td>375000</td>\n",
       "      <td>1554</td>\n",
       "      <td>167.0</td>\n",
       "      <td>7.0</td>\n",
       "      <td>1</td>\n",
       "      <td>0</td>\n",
       "      <td>72.45</td>\n",
       "      <td>3</td>\n",
       "      <td>2</td>\n",
       "      <td>0</td>\n",
       "      <td>...</td>\n",
       "      <td>0</td>\n",
       "      <td>0</td>\n",
       "      <td>0</td>\n",
       "      <td>0</td>\n",
       "      <td>0</td>\n",
       "      <td>0</td>\n",
       "      <td>0</td>\n",
       "      <td>0</td>\n",
       "      <td>0</td>\n",
       "      <td>0</td>\n",
       "    </tr>\n",
       "    <tr>\n",
       "      <th>1925</th>\n",
       "      <td>520000</td>\n",
       "      <td>2152</td>\n",
       "      <td>125.0</td>\n",
       "      <td>3.0</td>\n",
       "      <td>1</td>\n",
       "      <td>0</td>\n",
       "      <td>110.00</td>\n",
       "      <td>4</td>\n",
       "      <td>3</td>\n",
       "      <td>2007</td>\n",
       "      <td>...</td>\n",
       "      <td>0</td>\n",
       "      <td>0</td>\n",
       "      <td>0</td>\n",
       "      <td>0</td>\n",
       "      <td>0</td>\n",
       "      <td>0</td>\n",
       "      <td>0</td>\n",
       "      <td>0</td>\n",
       "      <td>0</td>\n",
       "      <td>0</td>\n",
       "    </tr>\n",
       "    <tr>\n",
       "      <th>1926</th>\n",
       "      <td>213300</td>\n",
       "      <td>888</td>\n",
       "      <td>153.0</td>\n",
       "      <td>33.0</td>\n",
       "      <td>0</td>\n",
       "      <td>0</td>\n",
       "      <td>56.00</td>\n",
       "      <td>3</td>\n",
       "      <td>2</td>\n",
       "      <td>1987</td>\n",
       "      <td>...</td>\n",
       "      <td>0</td>\n",
       "      <td>0</td>\n",
       "      <td>0</td>\n",
       "      <td>0</td>\n",
       "      <td>0</td>\n",
       "      <td>0</td>\n",
       "      <td>0</td>\n",
       "      <td>0</td>\n",
       "      <td>0</td>\n",
       "      <td>0</td>\n",
       "    </tr>\n",
       "  </tbody>\n",
       "</table>\n",
       "<p>1927 rows × 1583 columns</p>\n",
       "</div>"
      ],
      "text/plain": [
       "     price(€) monthly(€)  energy_performance_diagnosis_(kWhEP/m².year)  \\\n",
       "0      165000        689                                         239.0   \n",
       "1      230000        957                                         318.0   \n",
       "2      760000       3141                                           0.0   \n",
       "3      349000       1447                                         131.0   \n",
       "4      365000       1513                                         109.0   \n",
       "...       ...        ...                                           ...   \n",
       "1922   148000        619                                         216.0   \n",
       "1923    75240        317                                         305.0   \n",
       "1924   375000       1554                                         167.0   \n",
       "1925   520000       2152                                         125.0   \n",
       "1926   213300        888                                         153.0   \n",
       "\n",
       "      Greenhouse_gas_emission(kgeqCO2/m².year)  terrace  view  area(m²)  room  \\\n",
       "0                                          0.0        1     0     39.63     2   \n",
       "1                                         10.0        0     0     64.00     3   \n",
       "2                                          0.0        1     0    254.00     7   \n",
       "3                                         30.0        0     0     82.00     4   \n",
       "4                                         29.0        0     0    260.00    10   \n",
       "...                                        ...      ...   ...       ...   ...   \n",
       "1922                                      11.0        1     0    127.00     5   \n",
       "1923                                       0.0        0     0    140.00     5   \n",
       "1924                                       7.0        1     0     72.45     3   \n",
       "1925                                       3.0        1     0    110.00     4   \n",
       "1926                                      33.0        0     0     56.00     3   \n",
       "\n",
       "      bedroom  year_of_construction  ...  ZAC Saint Sebastien  Zone Agricole  \\\n",
       "0           1                     0  ...                    0              0   \n",
       "1           1                     0  ...                    0              0   \n",
       "2           5                  1982  ...                    0              0   \n",
       "3           2                  1990  ...                    0              0   \n",
       "4           5                  1900  ...                    0              0   \n",
       "...       ...                   ...  ...                  ...            ...   \n",
       "1922        4                  1988  ...                    0              0   \n",
       "1923        2                  1600  ...                    0              0   \n",
       "1924        2                     0  ...                    0              0   \n",
       "1925        3                  2007  ...                    0              0   \n",
       "1926        2                  1987  ...                    0              0   \n",
       "\n",
       "      Zone Industrielle  Zone Industrielle du Prat  Zone Nord Est Urbaine  \\\n",
       "0                     0                          0                      0   \n",
       "1                     0                          0                      0   \n",
       "2                     0                          0                      0   \n",
       "3                     0                          0                      0   \n",
       "4                     0                          0                      0   \n",
       "...                 ...                        ...                    ...   \n",
       "1922                  0                          0                      0   \n",
       "1923                  0                          0                      0   \n",
       "1924                  0                          0                      0   \n",
       "1925                  0                          0                      0   \n",
       "1926                  0                          0                      0   \n",
       "\n",
       "      Zone Ouest Urbaine  Zone Pavillonnaire  Zone Pietonne  Zone Rurale Nord  \\\n",
       "0                      0                   0              0                 0   \n",
       "1                      0                   0              0                 0   \n",
       "2                      0                   0              0                 0   \n",
       "3                      0                   0              0                 0   \n",
       "4                      0                   0              0                 0   \n",
       "...                  ...                 ...            ...               ...   \n",
       "1922                   0                   0              0                 0   \n",
       "1923                   0                   0              0                 0   \n",
       "1924                   0                   0              0                 0   \n",
       "1925                   0                   0              0                 0   \n",
       "1926                   0                   0              0                 0   \n",
       "\n",
       "      Île de Nantes  \n",
       "0                 0  \n",
       "1                 0  \n",
       "2                 0  \n",
       "3                 0  \n",
       "4                 0  \n",
       "...             ...  \n",
       "1922              0  \n",
       "1923              0  \n",
       "1924              0  \n",
       "1925              0  \n",
       "1926              0  \n",
       "\n",
       "[1927 rows x 1583 columns]"
      ]
     },
     "execution_count": 168,
     "metadata": {},
     "output_type": "execute_result"
    }
   ],
   "source": [
    "df = df.drop('for_sale', 1)\n",
    "df = df.drop('description', 1)\n",
    "df"
   ]
  },
  {
   "cell_type": "code",
   "execution_count": 169,
   "metadata": {},
   "outputs": [],
   "source": [
    "df['price(€)'] = df['price(€)'].astype('str')\n",
    "df['price(€)'] = df['price(€)'].str.replace('\\xa0','')\n",
    "df['monthly(€)'] = df['monthly(€)'].astype('str')\n",
    "df['monthly(€)'] = df['monthly(€)'].str.replace('\\xa0','')"
   ]
  },
  {
   "cell_type": "code",
   "execution_count": 170,
   "metadata": {},
   "outputs": [],
   "source": [
    "for i in range (df.shape[0]):\n",
    "    df.loc[i, \"price(€)\"] = int(df[\"price(€)\"].iloc[i])\n",
    "    df.loc[i, \"monthly(€)\"] = int(df[\"monthly(€)\"].iloc[i])"
   ]
  },
  {
   "cell_type": "code",
   "execution_count": 171,
   "metadata": {},
   "outputs": [
    {
     "data": {
      "text/html": [
       "<div>\n",
       "<style scoped>\n",
       "    .dataframe tbody tr th:only-of-type {\n",
       "        vertical-align: middle;\n",
       "    }\n",
       "\n",
       "    .dataframe tbody tr th {\n",
       "        vertical-align: top;\n",
       "    }\n",
       "\n",
       "    .dataframe thead th {\n",
       "        text-align: right;\n",
       "    }\n",
       "</style>\n",
       "<table border=\"1\" class=\"dataframe\">\n",
       "  <thead>\n",
       "    <tr style=\"text-align: right;\">\n",
       "      <th></th>\n",
       "      <th>price(€)</th>\n",
       "      <th>monthly(€)</th>\n",
       "      <th>energy_performance_diagnosis_(kWhEP/m².year)</th>\n",
       "      <th>Greenhouse_gas_emission(kgeqCO2/m².year)</th>\n",
       "      <th>terrace</th>\n",
       "      <th>view</th>\n",
       "      <th>area(m²)</th>\n",
       "      <th>room</th>\n",
       "      <th>bedroom</th>\n",
       "      <th>year_of_construction</th>\n",
       "      <th>...</th>\n",
       "      <th>ZAC Saint Sebastien</th>\n",
       "      <th>Zone Agricole</th>\n",
       "      <th>Zone Industrielle</th>\n",
       "      <th>Zone Industrielle du Prat</th>\n",
       "      <th>Zone Nord Est Urbaine</th>\n",
       "      <th>Zone Ouest Urbaine</th>\n",
       "      <th>Zone Pavillonnaire</th>\n",
       "      <th>Zone Pietonne</th>\n",
       "      <th>Zone Rurale Nord</th>\n",
       "      <th>Île de Nantes</th>\n",
       "    </tr>\n",
       "  </thead>\n",
       "  <tbody>\n",
       "  </tbody>\n",
       "</table>\n",
       "<p>0 rows × 1583 columns</p>\n",
       "</div>"
      ],
      "text/plain": [
       "Empty DataFrame\n",
       "Columns: [price(€), monthly(€), energy_performance_diagnosis_(kWhEP/m².year), Greenhouse_gas_emission(kgeqCO2/m².year), terrace, view, area(m²), room, bedroom, year_of_construction, bathroom, shower_room, living_room_area(m²), land(m²), boxs, cellar, guardian, elevator, x_story_building, floor_number, storage, an_entrance, living_room, intercom, swimming_pool, fireplace, parquet, calm, works, work_needed, good_as_new, digicode, dining_room, adapted_PMR, building_land, serviced, balcony_area(m²), number_of_balconies, cellar_area(m²), recent, alarm, furnished, television, bathroom.1, separate_toilet, separate_kitchen, kitchen_none, american_kitchen, equipped_kitchen, kitchen_area, north_orientation, east_orientation, west_orientation, south_orientation, south_west_orientation, south_east_orientation, north_west_orientation, north_east_orientation, heating_radiator, gaz_heating, mixed_heating, electric_heating, fuel_heating, central_heating, individual_heating, floor_heating, communal_heating, heating_air_conditioning, reversible_heating, appartement, chateau, mansion, apartment_building, commercial_property, loft/workshop/area, house/villa, field, countryside, sea, mountain, city, 15 Min Nord Bergerac, Abbeville, Acheres, Agde, Agosta, Aigrefeuille-d Aunis, Aigues Mortes, Aigues-Mortes, Aix en Provence, Aix-en-Provence, Aix-les-Bains, Ajaccio, Albertville, Albi, Alfortville, Alixan, Allauch, Allegre-les-Fumades, Ambutrix, ...]\n",
       "Index: []\n",
       "\n",
       "[0 rows x 1583 columns]"
      ]
     },
     "execution_count": 171,
     "metadata": {},
     "output_type": "execute_result"
    }
   ],
   "source": [
    "df[~df.applymap(np.isreal).all(1)]"
   ]
  },
  {
   "cell_type": "code",
   "execution_count": 172,
   "metadata": {},
   "outputs": [
    {
     "data": {
      "text/html": [
       "<div>\n",
       "<style scoped>\n",
       "    .dataframe tbody tr th:only-of-type {\n",
       "        vertical-align: middle;\n",
       "    }\n",
       "\n",
       "    .dataframe tbody tr th {\n",
       "        vertical-align: top;\n",
       "    }\n",
       "\n",
       "    .dataframe thead th {\n",
       "        text-align: right;\n",
       "    }\n",
       "</style>\n",
       "<table border=\"1\" class=\"dataframe\">\n",
       "  <thead>\n",
       "    <tr style=\"text-align: right;\">\n",
       "      <th></th>\n",
       "      <th>price(€)</th>\n",
       "    </tr>\n",
       "  </thead>\n",
       "  <tbody>\n",
       "    <tr>\n",
       "      <th>0</th>\n",
       "      <td>12.013701</td>\n",
       "    </tr>\n",
       "    <tr>\n",
       "      <th>1</th>\n",
       "      <td>12.345835</td>\n",
       "    </tr>\n",
       "    <tr>\n",
       "      <th>2</th>\n",
       "      <td>13.541074</td>\n",
       "    </tr>\n",
       "    <tr>\n",
       "      <th>3</th>\n",
       "      <td>12.762827</td>\n",
       "    </tr>\n",
       "    <tr>\n",
       "      <th>4</th>\n",
       "      <td>12.807653</td>\n",
       "    </tr>\n",
       "    <tr>\n",
       "      <th>...</th>\n",
       "      <td>...</td>\n",
       "    </tr>\n",
       "    <tr>\n",
       "      <th>1922</th>\n",
       "      <td>11.904968</td>\n",
       "    </tr>\n",
       "    <tr>\n",
       "      <th>1923</th>\n",
       "      <td>11.228438</td>\n",
       "    </tr>\n",
       "    <tr>\n",
       "      <th>1924</th>\n",
       "      <td>12.834681</td>\n",
       "    </tr>\n",
       "    <tr>\n",
       "      <th>1925</th>\n",
       "      <td>13.161584</td>\n",
       "    </tr>\n",
       "    <tr>\n",
       "      <th>1926</th>\n",
       "      <td>12.270455</td>\n",
       "    </tr>\n",
       "  </tbody>\n",
       "</table>\n",
       "<p>1927 rows × 1 columns</p>\n",
       "</div>"
      ],
      "text/plain": [
       "       price(€)\n",
       "0     12.013701\n",
       "1     12.345835\n",
       "2     13.541074\n",
       "3     12.762827\n",
       "4     12.807653\n",
       "...         ...\n",
       "1922  11.904968\n",
       "1923  11.228438\n",
       "1924  12.834681\n",
       "1925  13.161584\n",
       "1926  12.270455\n",
       "\n",
       "[1927 rows x 1 columns]"
      ]
     },
     "execution_count": 172,
     "metadata": {},
     "output_type": "execute_result"
    }
   ],
   "source": [
    "y1_price = pd.DataFrame(np.log(df['price(€)']))\n",
    "y2_monthly = pd.DataFrame(np.log(df['monthly(€)']))\n",
    "df = df.drop('price(€)', 1)\n",
    "df = df.drop('monthly(€)', 1)\n",
    "x = pd.DataFrame(df)\n",
    "y1_price"
   ]
  },
  {
   "cell_type": "markdown",
   "metadata": {},
   "source": [
    "<h1>Prediction of the prices</h1>"
   ]
  },
  {
   "cell_type": "markdown",
   "metadata": {},
   "source": [
    "<h2>Linear Regression</h2>"
   ]
  },
  {
   "cell_type": "code",
   "execution_count": 173,
   "metadata": {},
   "outputs": [],
   "source": [
    "from sklearn.linear_model import LinearRegression\n",
    "from sklearn.model_selection import train_test_split    \n",
    "\n",
    "model=LinearRegression()         \n",
    "\n",
    "X_train, X_test, Y_train_price, Y_test_price = train_test_split(x, y1_price.values.ravel(), test_size=0.2)    \n",
    "\n",
    "model.fit(X_train, Y_train_price)            \n",
    "predictions=model.predict(X_test)"
   ]
  },
  {
   "cell_type": "code",
   "execution_count": 174,
   "metadata": {},
   "outputs": [
    {
     "name": "stdout",
     "output_type": "stream",
     "text": [
      "0.9350959634936323\n"
     ]
    }
   ],
   "source": [
    "print(model.score(X_train, Y_train_price))"
   ]
  },
  {
   "cell_type": "markdown",
   "metadata": {},
   "source": [
    "<h2>Random Forest Regressor</h2>"
   ]
  },
  {
   "cell_type": "code",
   "execution_count": 175,
   "metadata": {},
   "outputs": [
    {
     "name": "stderr",
     "output_type": "stream",
     "text": [
      "C:\\Users\\admin\\Anaconda3\\lib\\site-packages\\sklearn\\ensemble\\forest.py:246: FutureWarning: The default value of n_estimators will change from 10 in version 0.20 to 100 in 0.22.\n",
      "  \"10 in version 0.20 to 100 in 0.22.\", FutureWarning)\n"
     ]
    }
   ],
   "source": [
    "from sklearn.ensemble import RandomForestRegressor\n",
    "\n",
    "model = RandomForestRegressor()\n",
    "\n",
    "X_train, X_test, Y_train_price, Y_test_price = train_test_split(x, y1_price.values.ravel(), test_size=0.2)    \n",
    "\n",
    "model.fit(X_train, Y_train_price)           \n",
    "predictions=model.predict(X_test)"
   ]
  },
  {
   "cell_type": "code",
   "execution_count": 176,
   "metadata": {},
   "outputs": [
    {
     "name": "stdout",
     "output_type": "stream",
     "text": [
      "0.8971398285925247\n"
     ]
    }
   ],
   "source": [
    "print(model.score(X_train, Y_train_price))"
   ]
  },
  {
   "cell_type": "markdown",
   "metadata": {},
   "source": [
    "<h2>Decision Tree Regressor</h2>"
   ]
  },
  {
   "cell_type": "code",
   "execution_count": 177,
   "metadata": {},
   "outputs": [],
   "source": [
    "from sklearn.tree import DecisionTreeRegressor\n",
    "\n",
    "model = DecisionTreeRegressor()\n",
    "\n",
    "X_train, X_test, Y_train_price, Y_test_price = train_test_split(x, y1_price.values.ravel(), test_size=0.2)     \n",
    "\n",
    "model.fit(X_train, Y_train_price)            \n",
    "predictions=model.predict(X_test)"
   ]
  },
  {
   "cell_type": "code",
   "execution_count": 178,
   "metadata": {},
   "outputs": [
    {
     "name": "stdout",
     "output_type": "stream",
     "text": [
      "0.999999999785137\n"
     ]
    }
   ],
   "source": [
    "print(model.score(X_train, Y_train_price))"
   ]
  },
  {
   "cell_type": "markdown",
   "metadata": {},
   "source": [
    "<h2>Regression using Keras</h2>"
   ]
  },
  {
   "cell_type": "code",
   "execution_count": 185,
   "metadata": {},
   "outputs": [],
   "source": [
    "import matplotlib.pyplot as plt\n",
    "from keras.layers import Dense\n",
    "from keras.models import Sequential\n",
    "from keras.callbacks import EarlyStopping\n",
    "\n",
    "X_train, X_test, Y_train_price, Y_test_price = train_test_split(x, y1_price.values.ravel(), test_size=0.2)    \n",
    "\n",
    "model = Sequential()\n",
    "n_cols = x.shape[1]\n",
    "model.add(Dense(100,activation='relu',input_shape=(n_cols,)))\n",
    "model.add(Dense(120,activation='relu'))\n",
    "model.add(Dense(130,activation='relu'))\n",
    "model.add(Dense(120,activation='relu'))\n",
    "model.add(Dense(120,activation='relu'))\n",
    "model.add(Dense(120,activation='relu'))\n",
    "model.add(Dense(120,activation='relu'))\n",
    "model.add(Dense(120,activation='relu'))\n",
    "model.add(Dense(1))\n",
    "model.compile(optimizer='adam',loss='mean_squared_error',metrics=['accuracy'])"
   ]
  },
  {
   "cell_type": "code",
   "execution_count": 186,
   "metadata": {},
   "outputs": [
    {
     "name": "stdout",
     "output_type": "stream",
     "text": [
      "Train on 1232 samples, validate on 309 samples\n",
      "Epoch 1/100\n",
      "1232/1232 [==============================] - 2s 2ms/step - loss: 694.1338 - accuracy: 0.0000e+00 - val_loss: 49.6692 - val_accuracy: 0.0000e+00\n",
      "Epoch 2/100\n",
      "1232/1232 [==============================] - 2s 2ms/step - loss: 90.0159 - accuracy: 0.0000e+00 - val_loss: 11.4718 - val_accuracy: 0.0000e+00\n",
      "Epoch 3/100\n",
      "1232/1232 [==============================] - 2s 2ms/step - loss: 135.3985 - accuracy: 0.0000e+00 - val_loss: 13.3615 - val_accuracy: 0.0000e+00\n",
      "Epoch 4/100\n",
      "1232/1232 [==============================] - 2s 2ms/step - loss: 26.4834 - accuracy: 0.0000e+00 - val_loss: 9.0127 - val_accuracy: 0.0000e+00\n",
      "Epoch 5/100\n",
      "1232/1232 [==============================] - 2s 2ms/step - loss: 25.9621 - accuracy: 0.0000e+00 - val_loss: 10.8039 - val_accuracy: 0.0000e+00\n",
      "Epoch 6/100\n",
      "1232/1232 [==============================] - 2s 2ms/step - loss: 10.0052 - accuracy: 0.0000e+00 - val_loss: 12.7818 - val_accuracy: 0.0000e+00\n",
      "Epoch 7/100\n",
      "1232/1232 [==============================] - 2s 2ms/step - loss: 52.9093 - accuracy: 0.0000e+00 - val_loss: 12.1993 - val_accuracy: 0.0000e+00\n",
      "Epoch 8/100\n",
      "1232/1232 [==============================] - 2s 2ms/step - loss: 69.4419 - accuracy: 0.0000e+00 - val_loss: 11.0915 - val_accuracy: 0.0000e+00\n",
      "Epoch 9/100\n",
      "1232/1232 [==============================] - 2s 2ms/step - loss: 33.2347 - accuracy: 0.0000e+00 - val_loss: 12.1958 - val_accuracy: 0.0000e+00\n",
      "Epoch 10/100\n",
      "1232/1232 [==============================] - 2s 2ms/step - loss: 26.9623 - accuracy: 0.0000e+00 - val_loss: 13.5919 - val_accuracy: 0.0000e+00\n",
      "Epoch 11/100\n",
      "1232/1232 [==============================] - 2s 2ms/step - loss: 9.3913 - accuracy: 0.0000e+00 - val_loss: 14.9493 - val_accuracy: 0.0000e+00\n",
      "Epoch 12/100\n",
      "1232/1232 [==============================] - 2s 2ms/step - loss: 10.5773 - accuracy: 0.0000e+00 - val_loss: 5.0017 - val_accuracy: 0.0000e+00\n",
      "Epoch 13/100\n",
      "1232/1232 [==============================] - 2s 2ms/step - loss: 8.2571 - accuracy: 0.0000e+00 - val_loss: 2.6772 - val_accuracy: 0.0000e+00\n",
      "Epoch 14/100\n",
      "1232/1232 [==============================] - 2s 2ms/step - loss: 4.8469 - accuracy: 0.0000e+00 - val_loss: 3.0074 - val_accuracy: 0.0000e+00\n",
      "Epoch 15/100\n",
      "1232/1232 [==============================] - 2s 2ms/step - loss: 6.3669 - accuracy: 0.0000e+00 - val_loss: 1.9302 - val_accuracy: 0.0000e+00\n",
      "Epoch 16/100\n",
      "1232/1232 [==============================] - 2s 2ms/step - loss: 8.7148 - accuracy: 0.0000e+00 - val_loss: 4.9745 - val_accuracy: 0.0000e+00\n",
      "Epoch 17/100\n",
      "1232/1232 [==============================] - 2s 2ms/step - loss: 17.7207 - accuracy: 0.0000e+00 - val_loss: 6.1841 - val_accuracy: 0.0000e+00\n",
      "Epoch 18/100\n",
      "1232/1232 [==============================] - 2s 2ms/step - loss: 8.2671 - accuracy: 0.0000e+00 - val_loss: 3.2955 - val_accuracy: 0.0000e+00\n",
      "Epoch 19/100\n",
      "1232/1232 [==============================] - 2s 2ms/step - loss: 4.2531 - accuracy: 0.0000e+00 - val_loss: 6.2430 - val_accuracy: 0.0000e+00\n",
      "Epoch 20/100\n",
      "1232/1232 [==============================] - 2s 2ms/step - loss: 5.0520 - accuracy: 0.0000e+00 - val_loss: 19.4664 - val_accuracy: 0.0000e+00\n",
      "Epoch 21/100\n",
      "1232/1232 [==============================] - 2s 2ms/step - loss: 8.3001 - accuracy: 0.0000e+00 - val_loss: 5.7431 - val_accuracy: 0.0000e+00\n",
      "Epoch 22/100\n",
      "1232/1232 [==============================] - 2s 2ms/step - loss: 5.4030 - accuracy: 0.0000e+00 - val_loss: 5.5719 - val_accuracy: 0.0000e+00\n",
      "Epoch 23/100\n",
      "1232/1232 [==============================] - 2s 2ms/step - loss: 2.9183 - accuracy: 0.0000e+00 - val_loss: 2.9332 - val_accuracy: 0.0000e+00\n",
      "Epoch 24/100\n",
      "1232/1232 [==============================] - 2s 2ms/step - loss: 1.9047 - accuracy: 0.0000e+00 - val_loss: 2.2380 - val_accuracy: 0.0000e+00\n",
      "Epoch 25/100\n",
      "1232/1232 [==============================] - 2s 2ms/step - loss: 1.5919 - accuracy: 0.0000e+00 - val_loss: 0.9635 - val_accuracy: 0.0000e+00\n",
      "Epoch 26/100\n",
      "1232/1232 [==============================] - 2s 2ms/step - loss: 1.3652 - accuracy: 0.0000e+00 - val_loss: 2.1383 - val_accuracy: 0.0000e+00\n",
      "Epoch 27/100\n",
      "1232/1232 [==============================] - 2s 2ms/step - loss: 2.3228 - accuracy: 0.0000e+00 - val_loss: 3.1664 - val_accuracy: 0.0000e+00\n",
      "Epoch 28/100\n",
      "1232/1232 [==============================] - 2s 2ms/step - loss: 2.0260 - accuracy: 0.0000e+00 - val_loss: 1.0345 - val_accuracy: 0.0000e+00\n",
      "Epoch 29/100\n",
      "1232/1232 [==============================] - 2s 2ms/step - loss: 1.4096 - accuracy: 0.0000e+00 - val_loss: 2.9959 - val_accuracy: 0.0000e+00\n",
      "Epoch 30/100\n",
      "1232/1232 [==============================] - 2s 2ms/step - loss: 4.4405 - accuracy: 0.0000e+00 - val_loss: 10.4250 - val_accuracy: 0.0000e+00\n",
      "Epoch 31/100\n",
      "1232/1232 [==============================] - 2s 2ms/step - loss: 2.5508 - accuracy: 0.0000e+00 - val_loss: 1.7596 - val_accuracy: 0.0000e+00\n",
      "Epoch 32/100\n",
      "1232/1232 [==============================] - 2s 2ms/step - loss: 1.4063 - accuracy: 0.0000e+00 - val_loss: 0.8274 - val_accuracy: 0.0000e+00\n",
      "Epoch 33/100\n",
      "1232/1232 [==============================] - 2s 2ms/step - loss: 2.8412 - accuracy: 0.0000e+00 - val_loss: 0.9296 - val_accuracy: 0.0000e+00\n",
      "Epoch 34/100\n",
      "1232/1232 [==============================] - 2s 2ms/step - loss: 0.9627 - accuracy: 0.0000e+00 - val_loss: 0.6709 - val_accuracy: 0.0000e+00\n",
      "Epoch 35/100\n",
      "1232/1232 [==============================] - 2s 2ms/step - loss: 0.8779 - accuracy: 0.0000e+00 - val_loss: 0.4973 - val_accuracy: 0.0000e+00\n",
      "Epoch 36/100\n",
      "1232/1232 [==============================] - 2s 2ms/step - loss: 1.8189 - accuracy: 0.0000e+00 - val_loss: 19.1080 - val_accuracy: 0.0000e+00\n",
      "Epoch 37/100\n",
      "1232/1232 [==============================] - 2s 2ms/step - loss: 1.8615 - accuracy: 0.0000e+00 - val_loss: 0.5579 - val_accuracy: 0.0000e+00\n",
      "Epoch 38/100\n",
      "1232/1232 [==============================] - 2s 2ms/step - loss: 0.7064 - accuracy: 0.0000e+00 - val_loss: 0.4783 - val_accuracy: 0.0000e+00\n",
      "Epoch 39/100\n",
      "1232/1232 [==============================] - 2s 2ms/step - loss: 1.2349 - accuracy: 0.0000e+00 - val_loss: 0.8100 - val_accuracy: 0.0000e+00\n",
      "Epoch 40/100\n",
      "1232/1232 [==============================] - 2s 2ms/step - loss: 0.9227 - accuracy: 0.0000e+00 - val_loss: 0.5325 - val_accuracy: 0.0000e+00\n",
      "Epoch 41/100\n",
      "1232/1232 [==============================] - 2s 2ms/step - loss: 3.1684 - accuracy: 0.0000e+00 - val_loss: 2.4917 - val_accuracy: 0.0000e+00\n",
      "Epoch 42/100\n",
      "1232/1232 [==============================] - 2s 2ms/step - loss: 4.2794 - accuracy: 0.0000e+00 - val_loss: 0.6278 - val_accuracy: 0.0000e+00\n",
      "Epoch 43/100\n",
      "1232/1232 [==============================] - 2s 2ms/step - loss: 0.8853 - accuracy: 0.0000e+00 - val_loss: 0.5634 - val_accuracy: 0.0000e+00\n",
      "Epoch 44/100\n",
      "1232/1232 [==============================] - 2s 2ms/step - loss: 0.7723 - accuracy: 0.0000e+00 - val_loss: 0.4669 - val_accuracy: 0.0000e+00\n",
      "Epoch 45/100\n",
      "1232/1232 [==============================] - 2s 2ms/step - loss: 0.7915 - accuracy: 0.0000e+00 - val_loss: 0.4597 - val_accuracy: 0.0000e+00\n",
      "Epoch 46/100\n",
      "1232/1232 [==============================] - 2s 2ms/step - loss: 1.6639 - accuracy: 0.0000e+00 - val_loss: 0.7199 - val_accuracy: 0.0000e+00\n",
      "Epoch 47/100\n",
      "1232/1232 [==============================] - 2s 2ms/step - loss: 1.2868 - accuracy: 0.0000e+00 - val_loss: 0.7359 - val_accuracy: 0.0000e+00\n",
      "Epoch 48/100\n",
      "1232/1232 [==============================] - 2s 2ms/step - loss: 0.5971 - accuracy: 0.0000e+00 - val_loss: 0.4877 - val_accuracy: 0.0000e+00\n",
      "Epoch 49/100\n",
      "1232/1232 [==============================] - 2s 2ms/step - loss: 0.6587 - accuracy: 0.0000e+00 - val_loss: 0.4064 - val_accuracy: 0.0000e+00\n",
      "Epoch 50/100\n",
      "1232/1232 [==============================] - 2s 2ms/step - loss: 0.4486 - accuracy: 0.0000e+00 - val_loss: 0.4160 - val_accuracy: 0.0000e+00\n",
      "Epoch 51/100\n",
      "1232/1232 [==============================] - 2s 2ms/step - loss: 0.4899 - accuracy: 0.0000e+00 - val_loss: 0.4360 - val_accuracy: 0.0000e+00\n",
      "Epoch 52/100\n",
      "1232/1232 [==============================] - 2s 2ms/step - loss: 0.4564 - accuracy: 0.0000e+00 - val_loss: 0.4295 - val_accuracy: 0.0000e+00\n",
      "Epoch 53/100\n",
      "1232/1232 [==============================] - 2s 2ms/step - loss: 0.4569 - accuracy: 0.0000e+00 - val_loss: 0.4167 - val_accuracy: 0.0000e+00\n"
     ]
    },
    {
     "name": "stdout",
     "output_type": "stream",
     "text": [
      "Epoch 54/100\n",
      "1232/1232 [==============================] - 2s 2ms/step - loss: 0.4395 - accuracy: 0.0000e+00 - val_loss: 0.3885 - val_accuracy: 0.0000e+00\n",
      "Epoch 55/100\n",
      "1232/1232 [==============================] - 2s 2ms/step - loss: 0.4345 - accuracy: 0.0000e+00 - val_loss: 0.4033 - val_accuracy: 0.0000e+00\n",
      "Epoch 56/100\n",
      "1232/1232 [==============================] - 2s 2ms/step - loss: 0.7270 - accuracy: 0.0000e+00 - val_loss: 0.4080 - val_accuracy: 0.0000e+00\n",
      "Epoch 57/100\n",
      "1232/1232 [==============================] - 2s 2ms/step - loss: 0.5325 - accuracy: 0.0000e+00 - val_loss: 0.3653 - val_accuracy: 0.0000e+00\n",
      "Epoch 58/100\n",
      "1232/1232 [==============================] - 2s 2ms/step - loss: 0.4964 - accuracy: 0.0000e+00 - val_loss: 0.3696 - val_accuracy: 0.0000e+00\n",
      "Epoch 59/100\n",
      "1232/1232 [==============================] - 2s 2ms/step - loss: 0.4091 - accuracy: 0.0000e+00 - val_loss: 0.4012 - val_accuracy: 0.0000e+00\n",
      "Epoch 60/100\n",
      "1232/1232 [==============================] - 2s 2ms/step - loss: 0.3736 - accuracy: 0.0000e+00 - val_loss: 0.3650 - val_accuracy: 0.0000e+00\n",
      "Epoch 61/100\n",
      "1232/1232 [==============================] - 2s 2ms/step - loss: 0.4080 - accuracy: 0.0000e+00 - val_loss: 0.3626 - val_accuracy: 0.0000e+00\n",
      "Epoch 62/100\n",
      "1232/1232 [==============================] - 2s 2ms/step - loss: 0.4333 - accuracy: 0.0000e+00 - val_loss: 0.4314 - val_accuracy: 0.0000e+00\n",
      "Epoch 63/100\n",
      "1232/1232 [==============================] - 2s 2ms/step - loss: 0.9137 - accuracy: 0.0000e+00 - val_loss: 0.4029 - val_accuracy: 0.0000e+00\n",
      "Epoch 64/100\n",
      "1232/1232 [==============================] - 2s 2ms/step - loss: 0.4350 - accuracy: 0.0000e+00 - val_loss: 0.4021 - val_accuracy: 0.0000e+00\n",
      "Epoch 65/100\n",
      "1232/1232 [==============================] - 2s 2ms/step - loss: 0.4744 - accuracy: 0.0000e+00 - val_loss: 0.4495 - val_accuracy: 0.0000e+00\n",
      "Epoch 66/100\n",
      "1232/1232 [==============================] - 2s 2ms/step - loss: 0.4637 - accuracy: 0.0000e+00 - val_loss: 0.3786 - val_accuracy: 0.0000e+00\n",
      "Epoch 67/100\n",
      "1232/1232 [==============================] - 2s 2ms/step - loss: 0.8950 - accuracy: 0.0000e+00 - val_loss: 0.4329 - val_accuracy: 0.0000e+00\n",
      "Epoch 68/100\n",
      "1232/1232 [==============================] - 2s 2ms/step - loss: 0.4348 - accuracy: 0.0000e+00 - val_loss: 0.4208 - val_accuracy: 0.0000e+00\n",
      "Epoch 69/100\n",
      "1232/1232 [==============================] - 2s 2ms/step - loss: 0.3987 - accuracy: 0.0000e+00 - val_loss: 0.3956 - val_accuracy: 0.0000e+00\n",
      "Epoch 70/100\n",
      "1232/1232 [==============================] - 2s 2ms/step - loss: 0.3664 - accuracy: 0.0000e+00 - val_loss: 0.3865 - val_accuracy: 0.0000e+00\n",
      "Epoch 71/100\n",
      "1232/1232 [==============================] - 2s 2ms/step - loss: 0.3957 - accuracy: 0.0000e+00 - val_loss: 0.3691 - val_accuracy: 0.0000e+00\n",
      "Epoch 72/100\n",
      "1232/1232 [==============================] - 2s 2ms/step - loss: 0.3650 - accuracy: 0.0000e+00 - val_loss: 0.6193 - val_accuracy: 0.0000e+00\n",
      "Epoch 73/100\n",
      "1232/1232 [==============================] - 2s 2ms/step - loss: 0.3510 - accuracy: 0.0000e+00 - val_loss: 0.3475 - val_accuracy: 0.0000e+00\n",
      "Epoch 74/100\n",
      "1232/1232 [==============================] - 2s 2ms/step - loss: 0.3328 - accuracy: 0.0000e+00 - val_loss: 0.4171 - val_accuracy: 0.0000e+00\n",
      "Epoch 75/100\n",
      "1232/1232 [==============================] - 2s 2ms/step - loss: 0.3214 - accuracy: 0.0000e+00 - val_loss: 0.3784 - val_accuracy: 0.0000e+00\n",
      "Epoch 76/100\n",
      "1232/1232 [==============================] - 2s 2ms/step - loss: 0.3215 - accuracy: 0.0000e+00 - val_loss: 0.3644 - val_accuracy: 0.0000e+00\n",
      "Epoch 77/100\n",
      "1232/1232 [==============================] - 2s 2ms/step - loss: 0.3090 - accuracy: 0.0000e+00 - val_loss: 0.3896 - val_accuracy: 0.0000e+00\n",
      "Epoch 78/100\n",
      "1232/1232 [==============================] - 2s 2ms/step - loss: 0.3246 - accuracy: 0.0000e+00 - val_loss: 0.3629 - val_accuracy: 0.0000e+00\n",
      "Epoch 79/100\n",
      "1232/1232 [==============================] - 2s 2ms/step - loss: 0.3281 - accuracy: 0.0000e+00 - val_loss: 0.3377 - val_accuracy: 0.0000e+00\n",
      "Epoch 80/100\n",
      "1232/1232 [==============================] - 2s 2ms/step - loss: 0.3086 - accuracy: 0.0000e+00 - val_loss: 0.3580 - val_accuracy: 0.0000e+00\n",
      "Epoch 81/100\n",
      "1232/1232 [==============================] - 2s 2ms/step - loss: 0.3055 - accuracy: 0.0000e+00 - val_loss: 0.3707 - val_accuracy: 0.0000e+00\n",
      "Epoch 82/100\n",
      "1232/1232 [==============================] - 2s 2ms/step - loss: 0.3205 - accuracy: 0.0000e+00 - val_loss: 0.3568 - val_accuracy: 0.0000e+00\n",
      "Epoch 83/100\n",
      "1232/1232 [==============================] - 2s 2ms/step - loss: 0.2983 - accuracy: 0.0000e+00 - val_loss: 0.3758 - val_accuracy: 0.0000e+00\n",
      "Epoch 84/100\n",
      "1232/1232 [==============================] - 2s 2ms/step - loss: 0.4265 - accuracy: 0.0000e+00 - val_loss: 0.5454 - val_accuracy: 0.0000e+00\n",
      "Epoch 85/100\n",
      "1232/1232 [==============================] - 2s 2ms/step - loss: 0.5631 - accuracy: 0.0000e+00 - val_loss: 0.4263 - val_accuracy: 0.0000e+00\n",
      "Epoch 86/100\n",
      "1232/1232 [==============================] - 2s 2ms/step - loss: 0.3710 - accuracy: 0.0000e+00 - val_loss: 0.5075 - val_accuracy: 0.0000e+00\n",
      "Epoch 87/100\n",
      "1232/1232 [==============================] - 2s 2ms/step - loss: 0.3655 - accuracy: 0.0000e+00 - val_loss: 0.3958 - val_accuracy: 0.0000e+00\n",
      "Epoch 88/100\n",
      "1232/1232 [==============================] - 2s 2ms/step - loss: 0.3426 - accuracy: 0.0000e+00 - val_loss: 0.3431 - val_accuracy: 0.0000e+00\n",
      "Epoch 89/100\n",
      "1232/1232 [==============================] - 2s 2ms/step - loss: 0.3142 - accuracy: 0.0000e+00 - val_loss: 0.3645 - val_accuracy: 0.0000e+00\n",
      "Epoch 90/100\n",
      "1232/1232 [==============================] - 2s 2ms/step - loss: 0.4597 - accuracy: 0.0000e+00 - val_loss: 0.3516 - val_accuracy: 0.0000e+00\n",
      "Epoch 91/100\n",
      "1232/1232 [==============================] - 2s 2ms/step - loss: 0.2959 - accuracy: 0.0000e+00 - val_loss: 0.3697 - val_accuracy: 0.0000e+00\n",
      "Epoch 92/100\n",
      "1232/1232 [==============================] - 2s 2ms/step - loss: 0.2910 - accuracy: 0.0000e+00 - val_loss: 0.3493 - val_accuracy: 0.0000e+00\n",
      "Epoch 93/100\n",
      "1232/1232 [==============================] - 2s 2ms/step - loss: 0.3154 - accuracy: 0.0000e+00 - val_loss: 0.4458 - val_accuracy: 0.0000e+00\n",
      "Epoch 94/100\n",
      "1232/1232 [==============================] - 2s 2ms/step - loss: 0.3226 - accuracy: 0.0000e+00 - val_loss: 0.3400 - val_accuracy: 0.0000e+00\n",
      "Epoch 95/100\n",
      "1232/1232 [==============================] - 2s 2ms/step - loss: 0.3218 - accuracy: 0.0000e+00 - val_loss: 0.3720 - val_accuracy: 0.0000e+00\n",
      "Epoch 96/100\n",
      "1232/1232 [==============================] - 2s 2ms/step - loss: 0.2848 - accuracy: 0.0000e+00 - val_loss: 0.3581 - val_accuracy: 0.0000e+00\n",
      "Epoch 97/100\n",
      "1232/1232 [==============================] - 2s 2ms/step - loss: 0.2997 - accuracy: 0.0000e+00 - val_loss: 0.3357 - val_accuracy: 0.0000e+00\n",
      "Epoch 98/100\n",
      "1232/1232 [==============================] - 2s 2ms/step - loss: 0.3016 - accuracy: 0.0000e+00 - val_loss: 0.3506 - val_accuracy: 0.0000e+00\n",
      "Epoch 99/100\n",
      "1232/1232 [==============================] - 2s 2ms/step - loss: 0.2988 - accuracy: 0.0000e+00 - val_loss: 0.3764 - val_accuracy: 0.0000e+00\n",
      "Epoch 100/100\n",
      "1232/1232 [==============================] - 2s 2ms/step - loss: 0.2735 - accuracy: 0.0000e+00 - val_loss: 0.3418 - val_accuracy: 0.0000e+00\n"
     ]
    },
    {
     "data": {
      "image/png": "[encoded data removed]",
      "text/plain": [
       "<Figure size 432x288 with 1 Axes>"
      ]
     },
     "metadata": {
      "needs_background": "light"
     },
     "output_type": "display_data"
    }
   ],
   "source": [
    "history = model.fit(X_train, Y_train_price,validation_split = 0.2, epochs=100, batch_size=5)\n",
    "plt.plot(history.history['accuracy'])\n",
    "plt.plot(history.history['val_accuracy'])\n",
    "plt.title('model accuracy')\n",
    "plt.ylabel('accuracy')\n",
    "plt.xlabel('epoch')\n",
    "plt.legend(['train', 'val'], loc='upper left')\n",
    "plt.show()"
   ]
  },
  {
   "cell_type": "code",
   "execution_count": 187,
   "metadata": {},
   "outputs": [
    {
     "data": {
      "image/png": "[encoded data removed]",
      "text/plain": [
       "<Figure size 432x288 with 1 Axes>"
      ]
     },
     "metadata": {
      "needs_background": "light"
     },
     "output_type": "display_data"
    }
   ],
   "source": [
    "plt.plot(history.history['loss'])\n",
    "plt.plot(history.history['val_loss'])\n",
    "plt.title('model loss')\n",
    "plt.ylabel('loss')\n",
    "plt.xlabel('epoch')\n",
    "plt.legend(['train', 'val'], loc='upper left')\n",
    "plt.show()"
   ]
  },
  {
   "cell_type": "markdown",
   "metadata": {},
   "source": [
    "<h1>Prediction of the monthly prices</h1>"
   ]
  },
  {
   "cell_type": "markdown",
   "metadata": {},
   "source": [
    "<h2>Linear Regression</h2>"
   ]
  },
  {
   "cell_type": "code",
   "execution_count": 190,
   "metadata": {},
   "outputs": [],
   "source": [
    "from sklearn.linear_model import LinearRegression\n",
    "from sklearn.model_selection import train_test_split    \n",
    "\n",
    "model=LinearRegression()         \n",
    "\n",
    "X_train, X_test, Y_train_monthly, Y_test_monthly = train_test_split(x, y2_monthly.values.ravel(), test_size=0.2)    \n",
    "\n",
    "model.fit(X_train, Y_train_monthly)            \n",
    "predictions=model.predict(X_test)"
   ]
  },
  {
   "cell_type": "code",
   "execution_count": 191,
   "metadata": {},
   "outputs": [
    {
     "name": "stdout",
     "output_type": "stream",
     "text": [
      "0.9553175594261852\n"
     ]
    }
   ],
   "source": [
    "print(model.score(X_train, Y_train_monthly))"
   ]
  },
  {
   "cell_type": "markdown",
   "metadata": {},
   "source": [
    "<h2>Random Forest Regressor</h2>"
   ]
  },
  {
   "cell_type": "code",
   "execution_count": 192,
   "metadata": {},
   "outputs": [
    {
     "name": "stderr",
     "output_type": "stream",
     "text": [
      "C:\\Users\\admin\\Anaconda3\\lib\\site-packages\\sklearn\\ensemble\\forest.py:246: FutureWarning: The default value of n_estimators will change from 10 in version 0.20 to 100 in 0.22.\n",
      "  \"10 in version 0.20 to 100 in 0.22.\", FutureWarning)\n"
     ]
    }
   ],
   "source": [
    "from sklearn.ensemble import RandomForestRegressor\n",
    "\n",
    "model = RandomForestRegressor()\n",
    "\n",
    "X_train, X_test, Y_train_monthly, Y_test_monthly = train_test_split(x, y2_monthly.values.ravel(), test_size=0.2)    \n",
    "\n",
    "model.fit(X_train, Y_train_monthly)           \n",
    "predictions=model.predict(X_test)"
   ]
  },
  {
   "cell_type": "code",
   "execution_count": 193,
   "metadata": {},
   "outputs": [
    {
     "name": "stdout",
     "output_type": "stream",
     "text": [
      "0.8993355199864238\n"
     ]
    }
   ],
   "source": [
    "print(model.score(X_train, Y_train_monthly))"
   ]
  },
  {
   "cell_type": "markdown",
   "metadata": {},
   "source": [
    "<h2>Decision Tree Regressor</h2>"
   ]
  },
  {
   "cell_type": "code",
   "execution_count": 194,
   "metadata": {},
   "outputs": [],
   "source": [
    "from sklearn.tree import DecisionTreeRegressor\n",
    "\n",
    "model = DecisionTreeRegressor()\n",
    "\n",
    "X_train, X_test, Y_train_monthly, Y_test_monthly = train_test_split(x, y2_monthly.values.ravel(), test_size=0.2)     \n",
    "\n",
    "model.fit(X_train, Y_train_monthly)            \n",
    "predictions=model.predict(X_test)"
   ]
  },
  {
   "cell_type": "code",
   "execution_count": 195,
   "metadata": {},
   "outputs": [
    {
     "name": "stdout",
     "output_type": "stream",
     "text": [
      "1.0\n"
     ]
    }
   ],
   "source": [
    "print(model.score(X_train, Y_train_monthly))"
   ]
  },
  {
   "cell_type": "markdown",
   "metadata": {},
   "source": [
    "<h2>Regression using Keras</h2>"
   ]
  },
  {
   "cell_type": "code",
   "execution_count": 196,
   "metadata": {},
   "outputs": [],
   "source": [
    "import matplotlib.pyplot as plt\n",
    "from keras.layers import Dense\n",
    "from keras.models import Sequential\n",
    "from keras.callbacks import EarlyStopping\n",
    "\n",
    "X_train, X_test, Y_train_monthly, Y_test_monthly = train_test_split(x, y2_monthly.values.ravel(), test_size=0.2)    \n",
    "\n",
    "model = Sequential()\n",
    "n_cols = x.shape[1]\n",
    "model.add(Dense(100,activation='relu',input_shape=(n_cols,)))\n",
    "model.add(Dense(120,activation='relu'))\n",
    "model.add(Dense(130,activation='relu'))\n",
    "model.add(Dense(120,activation='relu'))\n",
    "model.add(Dense(120,activation='relu'))\n",
    "model.add(Dense(120,activation='relu'))\n",
    "model.add(Dense(120,activation='relu'))\n",
    "model.add(Dense(120,activation='relu'))\n",
    "model.add(Dense(1))\n",
    "model.compile(optimizer='adam',loss='mean_squared_error',metrics=['accuracy'])"
   ]
  },
  {
   "cell_type": "code",
   "execution_count": 201,
   "metadata": {},
   "outputs": [
    {
     "name": "stdout",
     "output_type": "stream",
     "text": [
      "Train on 1232 samples, validate on 309 samples\n",
      "Epoch 1/6\n",
      "1232/1232 [==============================] - 2s 2ms/step - loss: 0.1694 - accuracy: 0.0000e+00 - val_loss: 0.3097 - val_accuracy: 0.0000e+00\n",
      "Epoch 2/6\n",
      "1232/1232 [==============================] - 2s 2ms/step - loss: 0.1802 - accuracy: 0.0000e+00 - val_loss: 0.2984 - val_accuracy: 0.0000e+00\n",
      "Epoch 3/6\n",
      "1232/1232 [==============================] - 2s 2ms/step - loss: 0.1466 - accuracy: 0.0000e+00 - val_loss: 0.2923 - val_accuracy: 0.0000e+00\n",
      "Epoch 4/6\n",
      "1232/1232 [==============================] - 2s 2ms/step - loss: 0.1694 - accuracy: 0.0000e+00 - val_loss: 0.3436 - val_accuracy: 0.0000e+00\n",
      "Epoch 5/6\n",
      "1232/1232 [==============================] - 2s 2ms/step - loss: 0.1634 - accuracy: 0.0000e+00 - val_loss: 0.3133 - val_accuracy: 0.0000e+00\n",
      "Epoch 6/6\n",
      "1232/1232 [==============================] - 2s 2ms/step - loss: 0.1609 - accuracy: 0.0000e+00 - val_loss: 0.2790 - val_accuracy: 0.0000e+00\n"
     ]
    },
    {
     "data": {
      "image/png": "[encoded data removed]",
      "text/plain": [
       "<Figure size 432x288 with 1 Axes>"
      ]
     },
     "metadata": {
      "needs_background": "light"
     },
     "output_type": "display_data"
    }
   ],
   "source": [
    "history = model.fit(X_train, Y_train_monthly,validation_split = 0.2, epochs=6, batch_size=5)\n",
    "plt.plot(history.history['accuracy'])\n",
    "plt.plot(history.history['val_accuracy'])\n",
    "plt.title('model accuracy')\n",
    "plt.ylabel('accuracy')\n",
    "plt.xlabel('epoch')\n",
    "plt.legend(['train', 'val'], loc='upper left')\n",
    "plt.show()"
   ]
  },
  {
   "cell_type": "code",
   "execution_count": 202,
   "metadata": {},
   "outputs": [
    {
     "data": {
      "image/png": "[encoded data removed]",
      "text/plain": [
       "<Figure size 432x288 with 1 Axes>"
      ]
     },
     "metadata": {
      "needs_background": "light"
     },
     "output_type": "display_data"
    }
   ],
   "source": [
    "plt.plot(history.history['loss'])\n",
    "plt.plot(history.history['val_loss'])\n",
    "plt.title('model loss')\n",
    "plt.ylabel('loss')\n",
    "plt.xlabel('epoch')\n",
    "plt.legend(['train', 'val'], loc='upper left')\n",
    "plt.show()"
   ]
  }
 ],
 "metadata": {
  "kernelspec": {
   "display_name": "Python 3",
   "language": "python",
   "name": "python3"
  },
  "language_info": {
   "codemirror_mode": {
    "name": "ipython",
    "version": 3
   },
   "file_extension": ".py",
   "mimetype": "text/x-python",
   "name": "python",
   "nbconvert_exporter": "python",
   "pygments_lexer": "ipython3",
   "version": "3.7.3"
  }
 },
 "nbformat": 4,
 "nbformat_minor": 2
}
